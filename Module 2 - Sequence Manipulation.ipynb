{
 "cells": [
  {
   "cell_type": "markdown",
   "metadata": {},
   "source": [
    "# Module 2 - Sequence Manipulation\n",
    "### Creating Lists\n"
   ]
  },
  {
   "cell_type": "code",
   "execution_count": 6,
   "metadata": {},
   "outputs": [
    {
     "name": "stdout",
     "output_type": "stream",
     "text": [
      "ft_bones:  <class 'list'>\n",
      "['calcaneus', 'talus', 'cuboid', 'navicular', 'lateral cuneiform', 'intermediate cuneiform', 'medial cuneiform']\n"
     ]
    }
   ],
   "source": [
    "# [ ] review and run example\n",
    "# define list of strings\n",
    "ft_bones = [\"calcaneus\", \"talus\", \"cuboid\", \"navicular\", \"lateral cuneiform\", \"intermediate cuneiform\", \"medial cuneiform\"]\n",
    "\n",
    "# display type information\n",
    "print(\"ft_bones: \", type(ft_bones))\n",
    "\n",
    "# print the list\n",
    "print(ft_bones)"
   ]
  },
  {
   "cell_type": "code",
   "execution_count": 2,
   "metadata": {},
   "outputs": [
    {
     "name": "stdout",
     "output_type": "stream",
     "text": [
      "age_survey:  <class 'list'>\n",
      "[12, 14, 12, 29, 12, 14, 12, 12, 13, 12, 14, 13, 13, 46, 13, 12, 12, 13, 13, 12, 12]\n"
     ]
    }
   ],
   "source": [
    "# [ ] review and run example\n",
    "# define list of integers\n",
    "age_survey = [12, 14, 12, 29, 12, 14, 12, 12, 13, 12, 14, 13, 13, 46, 13, 12, 12, 13, 13, 12, 12]\n",
    "\n",
    "# display type information\n",
    "print(\"age_survey: \", type(age_survey))\n",
    "\n",
    "# print the list\n",
    "print(age_survey)"
   ]
  },
  {
   "cell_type": "code",
   "execution_count": 3,
   "metadata": {},
   "outputs": [
    {
     "name": "stdout",
     "output_type": "stream",
     "text": [
      "mixed_list:  <class 'list'>\n",
      "[1, 34, 0.999, 'dog', 'cat', ['calcaneus', 'talus', 'cuboid', 'navicular', 'lateral cuneiform', 'intermediate cuneiform', 'medial cuneiform'], [12, 14, 12, 29, 12, 14, 12, 12, 13, 12, 14, 13, 13, 46, 13, 12, 12, 13, 13, 12, 12]]\n"
     ]
    }
   ],
   "source": [
    "# [ ] review and run example\n",
    "# define list of mixed data type\n",
    "mixed_list = [1, 34, 0.999, \"dog\", \"cat\", ft_bones, age_survey]\n",
    "\n",
    "# display type information\n",
    "print(\"mixed_list: \", type(mixed_list))\n",
    "\n",
    "# print the list\n",
    "print(mixed_list)"
   ]
  },
  {
   "cell_type": "markdown",
   "metadata": {},
   "source": [
    "# Task 1\n",
    "### Create Lists"
   ]
  },
  {
   "cell_type": "code",
   "execution_count": 5,
   "metadata": {},
   "outputs": [
    {
     "name": "stdout",
     "output_type": "stream",
     "text": [
      "['codex', 'automation', 'pega', 'sharepoint']\n",
      "[1, 2, 3, 'one', 'two', 'three', 4, 'four']\n"
     ]
    }
   ],
   "source": [
    "# [ ] create team_names list and populate with 3-5 team name strings\n",
    "team_names = [\"codex\",\"automation\",\"pega\",\"sharepoint\"]\n",
    "\n",
    "# [ ] print the list\n",
    "print(team_names)\n",
    "\n",
    "# [ ] Create a list mix_list with numbers and strings with 4-6 items\n",
    "mix_list=[1,2,3,\"one\",\"two\",\"three\",4,\"four\"]\n",
    "# [ ] print the list\n",
    "print(mix_list)"
   ]
  },
  {
   "cell_type": "markdown",
   "metadata": {},
   "source": [
    "### List Access"
   ]
  },
  {
   "cell_type": "code",
   "execution_count": 8,
   "metadata": {},
   "outputs": [
    {
     "name": "stdout",
     "output_type": "stream",
     "text": [
      "calcaneus is the 1st bone on the list\n",
      "cuboid is the 3rd bone on the list\n",
      "medial cuneiform is the last bone on the list\n"
     ]
    }
   ],
   "source": [
    "ft_bones = [\"calcaneus\", \"talus\", \"cuboid\", \"navicular\", \"lateral cuneiform\", \"intermediate cuneiform\", \"medial cuneiform\"]\n",
    "# [ ] review and run example\n",
    "print(ft_bones[0], \"is the 1st bone on the list\")\n",
    "print(ft_bones[2], \"is the 3rd bone on the list\")\n",
    "print(ft_bones[-1], \"is the last bone on the list\")"
   ]
  },
  {
   "cell_type": "code",
   "execution_count": 9,
   "metadata": {},
   "outputs": [
    {
     "name": "stdout",
     "output_type": "stream",
     "text": [
      "talus is connected to the navicular\n"
     ]
    }
   ],
   "source": [
    "# [ ] review and run example\n",
    "print(ft_bones[1], \"is connected to the\",ft_bones[3])"
   ]
  },
  {
   "cell_type": "code",
   "execution_count": 11,
   "metadata": {},
   "outputs": [
    {
     "name": "stdout",
     "output_type": "stream",
     "text": [
      "The first three ages total 38\n"
     ]
    }
   ],
   "source": [
    "age_survey = [12, 14, 12, 29, 12, 14, 12, 12, 13, 12, 14, 13, 13, 46, 13, 12, 12, 13, 13, 12, 12]\n",
    "# [ ] review and run example\n",
    "three_ages_sum = age_survey[0] + age_survey[1] + age_survey[2]\n",
    "print(\"The first three ages total\", three_ages_sum)"
   ]
  },
  {
   "cell_type": "markdown",
   "metadata": {},
   "source": [
    "# Task 2"
   ]
  },
  {
   "cell_type": "code",
   "execution_count": 22,
   "metadata": {},
   "outputs": [
    {
     "name": "stdout",
     "output_type": "stream",
     "text": [
      "No parking on FC Road\n",
      "Parking available on MG Road\n",
      "Parking available on Fashion street\n",
      "Parking available on Linking Road\n",
      "No parking on Hill Road\n",
      "64\n"
     ]
    }
   ],
   "source": [
    "# [ ] Create a list, streets, that lists the name of 5 street name strings\n",
    "streets = [\"FC Road\",\"MG Road\",\"Fashion street\",\"Linking Road\",\"Hill Road\"]\n",
    "\n",
    "# [ ] print a message that there is \"No Parking\" on index 0 or index 4 streets\n",
    "for item in streets:\n",
    "    if (item == streets[0]) or (item==streets[4]):\n",
    "        print(\"No parking on\",item)\n",
    "    else:\n",
    "        print(\"Parking available on\",item)\n",
    "\n",
    "# [ ] Create a list, num_2_add, made of 5 different numbers between 0 - 25\n",
    "num_2_add = [1,4,17,19,23]\n",
    "\n",
    "# [ ] print the sum of the numbers\n",
    "sum = 0\n",
    "for item in num_2_add:\n",
    "     sum = sum + item\n",
    "print(sum)"
   ]
  },
  {
   "cell_type": "markdown",
   "metadata": {},
   "source": [
    "# Task 3\n",
    "### Fix the Errors\n"
   ]
  },
  {
   "cell_type": "code",
   "execution_count": 24,
   "metadata": {},
   "outputs": [
    {
     "name": "stdout",
     "output_type": "stream",
     "text": [
      " Total of checks 3 & 4 = $ 6200\n"
     ]
    }
   ],
   "source": [
    "# [ ] Review & Run, but ***Do Not Edit*** this code cell\n",
    "# [ ] Fix the error by only editing and running the block below\n",
    "pay_checks = [1000,4000,3500,2700,7000]\n",
    "print(\" Total of checks 3 & 4 = $\", pay_checks[2] + pay_checks[3])\n",
    "\n",
    "\n",
    "\n",
    "# [ ] Fix the error above by creating and running code in this cell\n"
   ]
  },
  {
   "cell_type": "markdown",
   "metadata": {},
   "source": [
    "# Module 2 Section 2: List Append"
   ]
  },
  {
   "cell_type": "markdown",
   "metadata": {},
   "source": [
    "### Appending to a List\n"
   ]
  },
  {
   "cell_type": "code",
   "execution_count": 25,
   "metadata": {},
   "outputs": [
    {
     "name": "stdout",
     "output_type": "stream",
     "text": [
      "sample_list before:  [1, 1, 2]\n",
      "sample_list after:   [1, 1, 2, 3]\n"
     ]
    }
   ],
   "source": [
    "# [ ] review and run example\n",
    "# the list before append\n",
    "sample_list = [1, 1, 2]\n",
    "print(\"sample_list before: \", sample_list)\n",
    "\n",
    "sample_list.append(3)\n",
    "# the list after append\n",
    "print(\"sample_list after:  \", sample_list)"
   ]
  },
  {
   "cell_type": "code",
   "execution_count": 27,
   "metadata": {},
   "outputs": [
    {
     "name": "stdout",
     "output_type": "stream",
     "text": [
      "sample_list start:   [1, 1, 2, 3, 3]\n",
      "sample_list added:   [1, 1, 2, 3, 3, 3]\n",
      "sample_list added:   [1, 1, 2, 3, 3, 3, 8]\n",
      "sample_list added:   [1, 1, 2, 3, 3, 3, 8, 5]\n"
     ]
    }
   ],
   "source": [
    "# [ ] review and run example\n",
    "# append number to sample_list\n",
    "print(\"sample_list start:  \", sample_list)\n",
    "sample_list.append(3)\n",
    "print(\"sample_list added:  \", sample_list)\n",
    "\n",
    "# append again\n",
    "sample_list.append(8)\n",
    "print(\"sample_list added:  \", sample_list)\n",
    "\n",
    "# append again\n",
    "sample_list.append(5)\n",
    "print(\"sample_list added:  \", sample_list)\n"
   ]
  },
  {
   "cell_type": "code",
   "execution_count": 28,
   "metadata": {},
   "outputs": [
    {
     "name": "stdout",
     "output_type": "stream",
     "text": [
      "mixed_types list:  [1, 'cat', 3]\n",
      "mixed_types list:  [1, 'cat', 3, 'turtle']\n"
     ]
    }
   ],
   "source": [
    "# [ ] review and run example\n",
    "mixed_types = [1, \"cat\"]\n",
    "# append number\n",
    "mixed_types.append(3)\n",
    "print(\"mixed_types list: \", mixed_types)\n",
    "\n",
    "# append string\n",
    "mixed_types.append(\"turtle\")\n",
    "print(\"mixed_types list: \", mixed_types)"
   ]
  },
  {
   "cell_type": "markdown",
   "metadata": {},
   "source": [
    "# Task 1\n",
    "### .append()"
   ]
  },
  {
   "cell_type": "code",
   "execution_count": 34,
   "metadata": {},
   "outputs": [
    {
     "name": "stdout",
     "output_type": "stream",
     "text": [
      "[0.01, 0.5, 9.7, 2.3]\n",
      "[0.01, 0.5, 9.7, 2.3, 4.5]\n",
      "['Rupees', 'Dollars', 'Euro']\n",
      "['Rupees', 'Dollars', 'Euro', 'etc']\n"
     ]
    }
   ],
   "source": [
    "# Currency Values\n",
    "# [ ] create a list of 3 or more currency denomination values, cur_values\n",
    "# cur_values, contains values of coins and paper bills (.01, .05, etc.)\n",
    "cur_values = [0.01,0.5,9.7,2.3]\n",
    "\n",
    "# [ ] print the list\n",
    "print(cur_values)\n",
    "\n",
    "# [ ] append an item to the list and print the list\n",
    "cur_values.append(4.5)\n",
    "print(cur_values)\n",
    "\n",
    "# Currency Names\n",
    "# [ ] create a list of 3 or more currency denomination NAMES, cur_names\n",
    "# cur_names contains the NAMES of coins and paper bills (penny, etc.)\n",
    "cur_names = [\"Rupees\",\"Dollars\",\"Euro\"]\n",
    "\n",
    "# [ ] print the list\n",
    "print(cur_names)\n",
    "\n",
    "# [ ] append an item to the list and print the list\n",
    "cur_names.append(\"etc\")\n",
    "print(cur_names)"
   ]
  },
  {
   "cell_type": "markdown",
   "metadata": {},
   "source": [
    "# Task 2\n",
    "### Append items to a list with input()\n"
   ]
  },
  {
   "cell_type": "code",
   "execution_count": 35,
   "metadata": {},
   "outputs": [
    {
     "name": "stdout",
     "output_type": "stream",
     "text": [
      "Enter currency names: euro\n",
      "['rupees', 'dollars', 'euro']\n"
     ]
    }
   ],
   "source": [
    "# [ ] append additional values to the Currency Names list using input()\n",
    "cur_names = [\"rupees\",\"dollars\"]\n",
    "cur_names.append(input(\"Enter currency names: \"))\n",
    "# [ ] print the appended list\n",
    "print(cur_names)"
   ]
  },
  {
   "cell_type": "markdown",
   "metadata": {},
   "source": [
    "# Task 3\n",
    "### while loop .append()\n",
    "- define an empty list: bday_survey\n",
    "- get user input, bday, asking for the day of the month they were born (1-31) or \"q\" to finish\n",
    "- using a while loop (while user not entering \"quit\")\n",
    "- append the bday input to the bday_survey list\n",
    "- get user input, bday, asking for the day of the month they were born (1-31) or \"q\" to finish\n",
    "- print bday_survey list"
   ]
  },
  {
   "cell_type": "code",
   "execution_count": 1,
   "metadata": {},
   "outputs": [
    {
     "name": "stdout",
     "output_type": "stream",
     "text": [
      "Enter day of the month you were born in (or) Enter 'q' to quit: 3\n",
      "Enter day of the month you were born in (or) Enter 'q' to quit: 4\n",
      "Enter day of the month you were born in (or) Enter 'q' to quit: 16\n",
      "Enter day of the month you were born in (or) Enter 'q' to quit: 25\n",
      "Enter day of the month you were born in (or) Enter 'q' to quit: 27\n",
      "Enter day of the month you were born in (or) Enter 'q' to quit: q\n",
      "['3', '4', '1', '6', '2', '5', '2', '7']\n"
     ]
    }
   ],
   "source": [
    "bday_survey = []\n",
    "bday = input(\"Enter day of the month you were born in (or) Enter 'q' to quit: \")\n",
    "while bday != \"q\":\n",
    "    bday_survey += bday\n",
    "    bday = input(\"Enter day of the month you were born in (or) Enter 'q' to quit: \")\n",
    "print(bday_survey)\n"
   ]
  },
  {
   "cell_type": "markdown",
   "metadata": {
    "collapsed": true
   },
   "source": [
    "# Task 4\n",
    "### Fix The Error\n"
   ]
  },
  {
   "cell_type": "code",
   "execution_count": 2,
   "metadata": {},
   "outputs": [
    {
     "ename": "IndexError",
     "evalue": "list index out of range",
     "output_type": "error",
     "traceback": [
      "\u001b[1;31m---------------------------------------------------------------------------\u001b[0m",
      "\u001b[1;31mIndexError\u001b[0m                                Traceback (most recent call last)",
      "\u001b[1;32m<ipython-input-2-d4259238c6d1>\u001b[0m in \u001b[0;36m<module>\u001b[1;34m()\u001b[0m\n\u001b[0;32m      1\u001b[0m \u001b[1;31m# [ ] Fix the Error\u001b[0m\u001b[1;33m\u001b[0m\u001b[1;33m\u001b[0m\u001b[0m\n\u001b[0;32m      2\u001b[0m \u001b[0mthree_numbers\u001b[0m \u001b[1;33m=\u001b[0m \u001b[1;33m[\u001b[0m\u001b[1;36m1\u001b[0m\u001b[1;33m,\u001b[0m \u001b[1;36m1\u001b[0m\u001b[1;33m,\u001b[0m \u001b[1;36m2\u001b[0m\u001b[1;33m]\u001b[0m\u001b[1;33m\u001b[0m\u001b[0m\n\u001b[1;32m----> 3\u001b[1;33m \u001b[0mprint\u001b[0m\u001b[1;33m(\u001b[0m\u001b[1;34m\"an item in the list is: \"\u001b[0m\u001b[1;33m,\u001b[0m \u001b[0mthree_numbers\u001b[0m\u001b[1;33m[\u001b[0m\u001b[1;36m3\u001b[0m\u001b[1;33m]\u001b[0m\u001b[1;33m)\u001b[0m\u001b[1;33m\u001b[0m\u001b[0m\n\u001b[0m",
      "\u001b[1;31mIndexError\u001b[0m: list index out of range"
     ]
    }
   ],
   "source": [
    "# [ ] Fix the Error\n",
    "three_numbers = [1, 1, 2]\n",
    "print(\"an item in the list is: \", three_numbers[3])\n"
   ]
  },
  {
   "cell_type": "code",
   "execution_count": 3,
   "metadata": {},
   "outputs": [
    {
     "name": "stdout",
     "output_type": "stream",
     "text": [
      "an item in the list is:  2\n"
     ]
    }
   ],
   "source": [
    "# [ ] Fix the Error\n",
    "three_numbers = [1, 1, 2]\n",
    "print(\"an item in the list is: \", three_numbers[2])"
   ]
  },
  {
   "cell_type": "markdown",
   "metadata": {},
   "source": [
    "# Module 2 Section 3: List Insert\n",
    "### Insert a new value for an index"
   ]
  },
  {
   "cell_type": "code",
   "execution_count": 4,
   "metadata": {},
   "outputs": [
    {
     "name": "stdout",
     "output_type": "stream",
     "text": [
      "party_list before:  ['Joana', 'Alton', 'Tobias']\n",
      "party_list after:   ['Joana', 'Colette', 'Tobias']\n",
      "before: ['Joana', 'Alton', 'Tobias']\n",
      "\n",
      "after: ['Joana', 'Alton Derosa', 'Tobias']\n"
     ]
    }
   ],
   "source": [
    "# [ ] review and run example\n",
    "# the list before Insert\n",
    "party_list = [\"Joana\", \"Alton\", \"Tobias\"]\n",
    "print(\"party_list before: \", party_list)\n",
    "\n",
    "# the list after Insert\n",
    "party_list[1] = \"Colette\"\n",
    "print(\"party_list after:  \", party_list)\n",
    "# [ ] review and run example\n",
    "party_list = [\"Joana\", \"Alton\", \"Tobias\"]\n",
    "print(\"before:\",party_list)\n",
    "\n",
    "# modify index value\n",
    "party_list[1] = party_list[1] + \" Derosa\"\n",
    "print(\"\\nafter:\", party_list)"
   ]
  },
  {
   "cell_type": "code",
   "execution_count": 6,
   "metadata": {},
   "outputs": [
    {
     "name": "stdout",
     "output_type": "stream",
     "text": [
      "['Joana', 'Alton Derosa', 'Alton']\n",
      "single_digits:  ['zero', 'one', 'two', 'three', 'four', 'five', 'six', 'seven', 'eight', 'nine']\n",
      "single_digits[3]:  three <class 'str'> \n",
      "\n",
      "single_digits:  ['zero', 'one', 'two', 3, 'four', 'five', 'six', 'seven', 'eight', 'nine']\n",
      "single_digits[3]:  3 <class 'int'>\n"
     ]
    }
   ],
   "source": [
    "# IndexError Example\n",
    "# [ ] review and run example which results in an IndexError\n",
    "# if result is NameError run cell above before running this cell\n",
    "\n",
    "# IndexError trying to append to end of list\n",
    "party_list[2] = \"Alton\"\n",
    "print(party_list)\n",
    "# [ ] review and run example changes the data type of an element\n",
    "# replace a string with a number (int)\n",
    "single_digits = [\"zero\", \"one\", \"two\", \"three\", \"four\", \"five\", \"six\", \"seven\", \"eight\", \"nine\"] \n",
    "print(\"single_digits: \", single_digits)\n",
    "print(\"single_digits[3]: \", single_digits[3], type(single_digits[3]),\"\\n\")\n",
    "\n",
    "# replace string with an int\n",
    "single_digits[3] = 3\n",
    "print(\"single_digits: \", single_digits)\n",
    "print(\"single_digits[3]: \", single_digits[3], type(single_digits[3]))"
   ]
  },
  {
   "cell_type": "markdown",
   "metadata": {},
   "source": [
    "# Task 1\n",
    "### replace items in a list\n",
    "- create a list, three_num, containing 3 single digit integers\n",
    "- print three_num\n",
    "- check if index 0 value is < 5\n",
    "```\n",
    "-- if < 5 , replace index 0 with a string: \"small\"\n",
    "-- else, replace index 0 with a string: \"large\"\n",
    "```\n",
    "- print three_num"
   ]
  },
  {
   "cell_type": "code",
   "execution_count": 8,
   "metadata": {},
   "outputs": [
    {
     "name": "stdout",
     "output_type": "stream",
     "text": [
      "[2, 7, 9]\n",
      "['small', 7, 9]\n"
     ]
    }
   ],
   "source": [
    "three_num = [2,7,9]\n",
    "print(three_num)\n",
    "if three_num[0]<5:\n",
    "    three_num[0] = \"small\"\n",
    "else:\n",
    "    three_num[0] = \"large\"\n",
    "print(three_num)"
   ]
  },
  {
   "cell_type": "markdown",
   "metadata": {},
   "source": [
    "# Function Challenge: create replacement function\n",
    "- Create a function, str_replace, that takes 2 arguments: int_list and index\n",
    "- int_list is a list of single digit integers\n",
    "```\n",
    "-- index is the index that will be checked - such as with int_list[index]\n",
    "-- Function replicates purpose of task \"replace items in a list\" above and replaces an integer with a string \"small\" or \"large\"\n",
    "```\n",
    "- return int_list\n",
    "##### Test the function!\n"
   ]
  },
  {
   "cell_type": "code",
   "execution_count": 15,
   "metadata": {},
   "outputs": [
    {
     "name": "stdout",
     "output_type": "stream",
     "text": [
      "Enter index of your choise: 3\n",
      "[1, 2, 3, 'small', 5, 6, 7, 8, 9, 10]\n"
     ]
    }
   ],
   "source": [
    "def str_replace(int_list, index):\n",
    "    if int_list[index]<5:\n",
    "        int_list[index] = \"small\"\n",
    "        return int_list\n",
    "    else:\n",
    "        int_list[index] = \"large\"\n",
    "        return int_list\n",
    "int_list = [1,2,3,4,5,6,7,8,9,10] \n",
    "index = int(input(\"Enter index of your choise: \"))\n",
    "str_replace(int_list,index)\n",
    "print(int_list)"
   ]
  },
  {
   "cell_type": "markdown",
   "metadata": {},
   "source": [
    "# Task 2\n",
    "### modify items in a list\n",
    "- create a list, three_words, containing 3 different capitalized word stings\n",
    "- print three_words\n",
    "- modify the first item in three_words to uppercase\n",
    "- modify the third item to swapcase\n",
    "- print three_words"
   ]
  },
  {
   "cell_type": "code",
   "execution_count": 22,
   "metadata": {},
   "outputs": [
    {
     "name": "stdout",
     "output_type": "stream",
     "text": [
      "['Tit', 'For', 'Tat']\n",
      "['TIT', 'For', 'tAT']\n"
     ]
    }
   ],
   "source": [
    "three_words = [\"Tit\",\"For\",\"Tat\"]\n",
    "print(three_words)\n",
    "three_words[0] = three_words[0].upper()\n",
    "three_words[2] = three_words[2].swapcase()\n",
    "print(three_words)"
   ]
  },
  {
   "cell_type": "markdown",
   "metadata": {},
   "source": [
    "# Insert Value"
   ]
  },
  {
   "cell_type": "code",
   "execution_count": 23,
   "metadata": {},
   "outputs": [
    {
     "name": "stdout",
     "output_type": "stream",
     "text": [
      "party_list before:  ['Joana', 'Alton', 'Tobias']\n",
      "index 1 is Alton \n",
      "index 2 is Tobias \n",
      "\n",
      "party_list after:   ['Joana', 'Colette', 'Alton', 'Tobias']\n",
      "index 1 is Colette \n",
      "index 2 is Alton \n",
      "index 3 is Tobias\n"
     ]
    }
   ],
   "source": [
    "# [ ] review and run example\n",
    "# the list before Insert\n",
    "party_list = [\"Joana\", \"Alton\", \"Tobias\"]\n",
    "print(\"party_list before: \", party_list)\n",
    "print(\"index 1 is\", party_list[1], \"\\nindex 2 is\", party_list[2], \"\\n\")\n",
    "\n",
    "# the list after Insert\n",
    "party_list.insert(1,\"Colette\")\n",
    "print(\"party_list after:  \", party_list)\n",
    "print(\"index 1 is\", party_list[1], \"\\nindex 2 is\", party_list[2], \"\\nindex 3 is\", party_list[3])"
   ]
  },
  {
   "cell_type": "markdown",
   "metadata": {},
   "source": [
    "# Task 3\n",
    "### insert() input into a list"
   ]
  },
  {
   "cell_type": "code",
   "execution_count": 24,
   "metadata": {},
   "outputs": [
    {
     "name": "stdout",
     "output_type": "stream",
     "text": [
      "Enter a name: Prachi\n",
      "['Joana', 'Prachi', 'Alton', 'Tobias']\n"
     ]
    }
   ],
   "source": [
    "# [ ] insert a name from user input into the party_list in the second position (index 1)\n",
    "party_list = [\"Joana\", \"Alton\", \"Tobias\"]\n",
    "name = input(\"Enter a name: \")\n",
    "party_list.insert(1,name)\n",
    "\n",
    "\n",
    "# [ ] print the updated list\n",
    "print(party_list)"
   ]
  },
  {
   "cell_type": "markdown",
   "metadata": {},
   "source": [
    "# Task 4\n",
    "### Fix The Error\n"
   ]
  },
  {
   "cell_type": "code",
   "execution_count": 25,
   "metadata": {},
   "outputs": [
    {
     "name": "stdout",
     "output_type": "stream",
     "text": [
      "tree_list before = oak\n"
     ]
    },
    {
     "ename": "AttributeError",
     "evalue": "'str' object has no attribute 'insert'",
     "output_type": "error",
     "traceback": [
      "\u001b[1;31m---------------------------------------------------------------------------\u001b[0m",
      "\u001b[1;31mAttributeError\u001b[0m                            Traceback (most recent call last)",
      "\u001b[1;32m<ipython-input-25-bd840576f665>\u001b[0m in \u001b[0;36m<module>\u001b[1;34m()\u001b[0m\n\u001b[0;32m      2\u001b[0m \u001b[0mtree_list\u001b[0m \u001b[1;33m=\u001b[0m \u001b[1;34m\"oak\"\u001b[0m\u001b[1;33m\u001b[0m\u001b[0m\n\u001b[0;32m      3\u001b[0m \u001b[0mprint\u001b[0m\u001b[1;33m(\u001b[0m\u001b[1;34m\"tree_list before =\"\u001b[0m\u001b[1;33m,\u001b[0m \u001b[0mtree_list\u001b[0m\u001b[1;33m)\u001b[0m\u001b[1;33m\u001b[0m\u001b[0m\n\u001b[1;32m----> 4\u001b[1;33m \u001b[0mtree_list\u001b[0m\u001b[1;33m.\u001b[0m\u001b[0minsert\u001b[0m\u001b[1;33m(\u001b[0m\u001b[1;36m1\u001b[0m\u001b[1;33m,\u001b[0m\u001b[1;34m\"pine\"\u001b[0m\u001b[1;33m)\u001b[0m\u001b[1;33m\u001b[0m\u001b[0m\n\u001b[0m\u001b[0;32m      5\u001b[0m \u001b[0mprint\u001b[0m\u001b[1;33m(\u001b[0m\u001b[1;34m\"tree_list after  =\"\u001b[0m\u001b[1;33m,\u001b[0m \u001b[0mtree_list\u001b[0m\u001b[1;33m)\u001b[0m\u001b[1;33m\u001b[0m\u001b[0m\n",
      "\u001b[1;31mAttributeError\u001b[0m: 'str' object has no attribute 'insert'"
     ]
    }
   ],
   "source": [
    "# [ ] Fix the Error\n",
    "tree_list = \"oak\"\n",
    "print(\"tree_list before =\", tree_list)\n",
    "tree_list.insert(1,\"pine\")\n",
    "print(\"tree_list after  =\", tree_list)\n"
   ]
  },
  {
   "cell_type": "code",
   "execution_count": 26,
   "metadata": {},
   "outputs": [
    {
     "name": "stdout",
     "output_type": "stream",
     "text": [
      "tree_list before = ['oak']\n",
      "tree_list after  = ['oak', 'pine']\n"
     ]
    }
   ],
   "source": [
    "# [ ] Fix the Error\n",
    "tree_list = [\"oak\"]\n",
    "print(\"tree_list before =\", tree_list)\n",
    "tree_list.insert(1,\"pine\")\n",
    "print(\"tree_list after  =\", tree_list)\n"
   ]
  },
  {
   "cell_type": "markdown",
   "metadata": {},
   "source": [
    "# Delete a specific List index"
   ]
  },
  {
   "cell_type": "code",
   "execution_count": 27,
   "metadata": {},
   "outputs": [
    {
     "name": "stdout",
     "output_type": "stream",
     "text": [
      "sample_list before:  [11, 21, 13, 14, 51, 161, 117, 181]\n",
      "sample_list after:   [11, 13, 14, 51, 161, 117, 181]\n",
      "sample_list before: [11, 13, 14, 51, 161, 117, 181]\n",
      "sample_list after: [13, 14, 51, 161, 117, 181]\n",
      "mixed_types list:  [1, 'cat', 3]\n",
      "mixed_types list:  [1, 'cat', 3, 'turtle']\n"
     ]
    }
   ],
   "source": [
    "# [ ] review and run example\n",
    "# the list before delete\n",
    "sample_list = [11, 21, 13, 14, 51, 161, 117, 181]\n",
    "print(\"sample_list before: \", sample_list)\n",
    "\n",
    "del sample_list[1]\n",
    "# the list after delete\n",
    "print(\"sample_list after:  \", sample_list)\n",
    "# [ ] review and run example Multiple Times\n",
    "# [ ] consider how to reset the list values?\n",
    "print(\"sample_list before:\", sample_list)\n",
    "del sample_list[0]\n",
    "print(\"sample_list after:\", sample_list)\n",
    "# [ ] review and run example\n",
    "mixed_types = [1, \"cat\"]\n",
    "# append number\n",
    "mixed_types.append(3)\n",
    "print(\"mixed_types list: \", mixed_types)\n",
    "\n",
    "# append string\n",
    "mixed_types.append(\"turtle\")\n",
    "print(\"mixed_types list: \", mixed_types)"
   ]
  },
  {
   "cell_type": "markdown",
   "metadata": {},
   "source": [
    "# Task 1\n",
    "### del statement"
   ]
  },
  {
   "cell_type": "code",
   "execution_count": 30,
   "metadata": {},
   "outputs": [
    {
     "name": "stdout",
     "output_type": "stream",
     "text": [
      "Original List: \n",
      " ['calcaneus', 'talus', 'cuboid', 'navicular', 'lateral cuneiform', 'intermediate cuneiform', 'medial cuneiform']\n",
      "List after deleting 'cuboid': \n",
      " ['calcaneus', 'talus', 'navicular', 'lateral cuneiform', 'intermediate cuneiform', 'medial cuneiform']\n"
     ]
    }
   ],
   "source": [
    "ft_bones = [\"calcaneus\", \"talus\", \"cuboid\", \"navicular\", \"lateral cuneiform\", \n",
    "            \"intermediate cuneiform\", \"medial cuneiform\"]\n",
    "# [ ] print ft_bones list\n",
    "print(\"Original List: \\n\",ft_bones)\n",
    "\n",
    "# [ ] delete \"cuboid\" from ft_bones\n",
    "del ft_bones[2]\n",
    "\n",
    "# [ ] reprint list\n",
    "print(\"List after deleting 'cuboid': \\n\",ft_bones)\n"
   ]
  },
  {
   "cell_type": "markdown",
   "metadata": {},
   "source": [
    "# Task 2\n",
    "### multiple del statements"
   ]
  },
  {
   "cell_type": "code",
   "execution_count": 31,
   "metadata": {},
   "outputs": [
    {
     "name": "stdout",
     "output_type": "stream",
     "text": [
      "Original List: \n",
      " ['calcaneus', 'talus', 'cuboid', 'navicular', 'lateral cuneiform', 'intermediate cuneiform', 'medial cuneiform']\n",
      "Modified List: \n",
      " ['calcaneus', 'talus', 'lateral cuneiform', 'intermediate cuneiform', 'medial cuneiform']\n"
     ]
    }
   ],
   "source": [
    "ft_bones = [\"calcaneus\", \"talus\", \"cuboid\", \"navicular\", \"lateral cuneiform\", \n",
    "            \"intermediate cuneiform\", \"medial cuneiform\"]\n",
    "\n",
    "# [ ] print ft_bones list\n",
    "print(\"Original List: \\n\",ft_bones)\n",
    "\n",
    "# [ ] delete \"cuboid\" from ft_bones\n",
    "del ft_bones[2]\n",
    "\n",
    "# [ ] delete \"navicular\" from list\n",
    "del ft_bones[2]\n",
    "\n",
    "# [ ] reprint list\n",
    "print(\"Modified List: \\n\",ft_bones)\n"
   ]
  },
  {
   "cell_type": "markdown",
   "metadata": {},
   "source": [
    "# .pop() gets and deletes item in list"
   ]
  },
  {
   "cell_type": "code",
   "execution_count": 32,
   "metadata": {},
   "outputs": [
    {
     "name": "stdout",
     "output_type": "stream",
     "text": [
      "['Joana', 'Alton', 'Tobias']\n",
      "Hello, Tobias\n",
      "\n",
      " ['Joana', 'Alton']\n",
      "Hello, Alton\n",
      "\n",
      " ['Joana']\n",
      "Hello, Joana\n",
      "\n",
      " []\n"
     ]
    }
   ],
   "source": [
    "# [ ] review and run example\n",
    "# pop() gets the last item by default\n",
    "party_list = [\"Joana\", \"Alton\", \"Tobias\"]\n",
    "print(party_list)\n",
    "print(\"Hello,\", party_list.pop())\n",
    "\n",
    "print(\"\\n\", party_list)\n",
    "print(\"Hello,\", party_list.pop())\n",
    "\n",
    "print(\"\\n\", party_list)\n",
    "print(\"Hello,\", party_list.pop())\n",
    "\n",
    "print(\"\\n\", party_list)"
   ]
  },
  {
   "cell_type": "code",
   "execution_count": 33,
   "metadata": {},
   "outputs": [
    {
     "name": "stdout",
     "output_type": "stream",
     "text": [
      "before: [11, 21, 13, 14, 51, 161, 117, 181]\n",
      "after : [11, 21, 13, 51, 161, 117, 181]\n"
     ]
    }
   ],
   "source": [
    "# [ ] review and run example\n",
    "# can pop specific index like pop(3)\n",
    "number_list = [11, 21, 13, 14, 51, 161, 117, 181]\n",
    "print(\"before:\", number_list)\n",
    "number_list.pop(3)\n",
    "print(\"after :\", number_list)\n"
   ]
  },
  {
   "cell_type": "code",
   "execution_count": 34,
   "metadata": {},
   "outputs": [
    {
     "name": "stdout",
     "output_type": "stream",
     "text": [
      "list before: [11, 21, 13, 14, 51, 161, 117, 181]\n",
      "list after : [11, 21, 13, 14, 51, 161]\n",
      "add the popped values: 181 + 117 = 298\n"
     ]
    }
   ],
   "source": [
    "# [ ] review and run example\n",
    "# set a variable to a poped value\n",
    "number_list = [11, 21, 13, 14, 51, 161, 117, 181]\n",
    "print(\"list before:\", number_list)\n",
    "num_1 = number_list.pop()\n",
    "num_2 = number_list.pop()\n",
    "print(\"list after :\", number_list)\n",
    "print(\"add the popped values:\", num_1, \"+\", num_2, \"=\", num_1 + num_2)"
   ]
  },
  {
   "cell_type": "markdown",
   "metadata": {},
   "source": [
    "# Task 3\n",
    "### pop()"
   ]
  },
  {
   "cell_type": "code",
   "execution_count": 36,
   "metadata": {},
   "outputs": [
    {
     "name": "stdout",
     "output_type": "stream",
     "text": [
      "First item: calcaneus\n",
      "Last item: intermediate cuneiform\n"
     ]
    }
   ],
   "source": [
    "# [ ] pop() and print the first and last items from the ft_bones list\n",
    "ft_bones = [\"calcaneus\", \"talus\", \"cuboid\", \"navicular\", \"lateral cuneiform\", \n",
    "            \"intermediate cuneiform\", \"medial cuneiform\"]\n",
    "\n",
    "# [ ] print the remaining list\n",
    "ft_bones.pop()\n",
    "print(\"First item:\",ft_bones[0])\n",
    "print(\"Last item:\",ft_bones[-1])"
   ]
  },
  {
   "cell_type": "markdown",
   "metadata": {},
   "source": [
    "# an empty list is False"
   ]
  },
  {
   "cell_type": "code",
   "execution_count": 37,
   "metadata": {},
   "outputs": [
    {
     "name": "stdout",
     "output_type": "stream",
     "text": [
      "Poodle\n",
      "Pug\n",
      "Lab\n"
     ]
    }
   ],
   "source": [
    "dog_types = [\"Lab\", \"Pug\", \"Poodle\"]\n",
    "\n",
    "while dog_types: \n",
    "    print(dog_types.pop())"
   ]
  },
  {
   "cell_type": "markdown",
   "metadata": {},
   "source": [
    "# Task 4 pt 1\n",
    "### Cash Register Input\n",
    "- create a empty list purchase_amounts\n",
    "- populate the list with user input for the price of items\n",
    "- continue adding to list with while until \"done\" is entered\n",
    "- can use while True: with break\n",
    "- print purchase_amounts\n",
    "- continue to pt 2"
   ]
  },
  {
   "cell_type": "code",
   "execution_count": 45,
   "metadata": {},
   "outputs": [
    {
     "name": "stdout",
     "output_type": "stream",
     "text": [
      "Enter price of item: 10\n",
      "Enter price of item: 20\n",
      "Enter price of item: 30\n",
      "Enter price of item: done\n",
      "['1', '0', '2', '0', '3', '0']\n"
     ]
    }
   ],
   "source": [
    "purchase_amounts = []\n",
    "price = input(\"Enter price of item: \")\n",
    "while price != \"done\":\n",
    "    purchase_amounts += price\n",
    "    price = input(\"Enter price of item: \")\n",
    "print(purchase_amounts)"
   ]
  },
  {
   "cell_type": "markdown",
   "metadata": {},
   "source": [
    "#### Task4 pt 2\n",
    "### Cash Register Total\n",
    "- create a subtotal variable = 0\n",
    "- create a while loop that runs while purchase_amount (is not empty)\n",
    "- inside the loop\n",
    "- pop() the last list value cast as a float type\n",
    "```\n",
    "-- add the float value to a subtotal variable\n",
    "-- after exiting the loop print subtotal\n",
    "```\n",
    "- be sure to populate purchase_amounts by running pt 1 above\n"
   ]
  },
  {
   "cell_type": "code",
   "execution_count": 48,
   "metadata": {},
   "outputs": [
    {
     "name": "stdout",
     "output_type": "stream",
     "text": [
      "Enter price of item: 10\n",
      "Enter price of item: 20\n",
      "Enter price of item: 30\n",
      "Enter price of item: 40\n",
      "Enter price of item: 50\n",
      "Enter price of item: done\n",
      "['1', '0', '2', '0', '3', '0', '4', '0', '5', '0']\n",
      "15.0\n"
     ]
    }
   ],
   "source": [
    "purchase_amounts = []\n",
    "price = input(\"Enter price of item: \")\n",
    "while price != \"done\":\n",
    "    purchase_amounts += price\n",
    "    price = input(\"Enter price of item: \")\n",
    "print(purchase_amounts)\n",
    "\n",
    "subtotal = 0\n",
    "while purchase_amounts != []:\n",
    "    subtotal += float(purchase_amounts.pop())\n",
    "print(subtotal)"
   ]
  },
  {
   "cell_type": "markdown",
   "metadata": {},
   "source": [
    "# .remove()"
   ]
  },
  {
   "cell_type": "code",
   "execution_count": 49,
   "metadata": {},
   "outputs": [
    {
     "name": "stdout",
     "output_type": "stream",
     "text": [
      "['Lab', 'Poodle']\n",
      "['Lab', 'Pug', 'Poodle', 'Poodle', 'Pug', 'Poodle']\n",
      "['Lab', 'Pug', 'Poodle', 'Pug', 'Poodle']\n",
      "['Lab', 'Pug', 'Pug', 'Poodle']\n",
      "['Lab', 'Pug', 'Pug']\n"
     ]
    }
   ],
   "source": [
    "# [ ] review and run example\n",
    "dog_types = [\"Lab\", \"Pug\", \"Poodle\"]\n",
    "\n",
    "if \"Pug\" in dog_types:\n",
    "    dog_types.remove(\"Pug\")\n",
    "else:\n",
    "    print(\"no Pug found\")\n",
    "print(dog_types)\n",
    "# [ ] review and run example\n",
    "dogs = [\"Lab\", \"Pug\", \"Poodle\", \"Poodle\", \"Pug\", \"Poodle\"]\n",
    "\n",
    "print(dogs)\n",
    "while \"Poodle\" in dogs:\n",
    "    dogs.remove(\"Poodle\")\n",
    "    print(dogs)"
   ]
  },
  {
   "cell_type": "code",
   "execution_count": 50,
   "metadata": {},
   "outputs": [
    {
     "ename": "ValueError",
     "evalue": "list.remove(x): x not in list",
     "output_type": "error",
     "traceback": [
      "\u001b[1;31m---------------------------------------------------------------------------\u001b[0m",
      "\u001b[1;31mValueError\u001b[0m                                Traceback (most recent call last)",
      "\u001b[1;32m<ipython-input-50-a57d87555a4d>\u001b[0m in \u001b[0;36m<module>\u001b[1;34m()\u001b[0m\n\u001b[0;32m      1\u001b[0m \u001b[1;31m# [ ] review and run example\u001b[0m\u001b[1;33m\u001b[0m\u001b[1;33m\u001b[0m\u001b[0m\n\u001b[0;32m      2\u001b[0m \u001b[1;31m# Change to \"Lab\", etc... to fix error\u001b[0m\u001b[1;33m\u001b[0m\u001b[1;33m\u001b[0m\u001b[0m\n\u001b[1;32m----> 3\u001b[1;33m \u001b[0mdogs\u001b[0m\u001b[1;33m.\u001b[0m\u001b[0mremove\u001b[0m\u001b[1;33m(\u001b[0m\u001b[1;34m\"Collie\"\u001b[0m\u001b[1;33m)\u001b[0m\u001b[1;33m\u001b[0m\u001b[0m\n\u001b[0m\u001b[0;32m      4\u001b[0m \u001b[0mprint\u001b[0m\u001b[1;33m(\u001b[0m\u001b[0mdogs\u001b[0m\u001b[1;33m)\u001b[0m\u001b[1;33m\u001b[0m\u001b[0m\n",
      "\u001b[1;31mValueError\u001b[0m: list.remove(x): x not in list"
     ]
    }
   ],
   "source": [
    "# [ ] review and run example\n",
    "# Change to \"Lab\", etc... to fix error\n",
    "dogs.remove(\"Collie\")\n",
    "print(dogs)"
   ]
  },
  {
   "cell_type": "code",
   "execution_count": 51,
   "metadata": {},
   "outputs": [
    {
     "name": "stdout",
     "output_type": "stream",
     "text": [
      "['Pug', 'Pug']\n"
     ]
    }
   ],
   "source": [
    "# [ ] review and run example\n",
    "# Change to \"Lab\", etc... to fix error\n",
    "dogs.remove(\"Lab\")\n",
    "print(dogs)"
   ]
  },
  {
   "cell_type": "markdown",
   "metadata": {},
   "source": [
    "# Task 5\n",
    "### .remove()"
   ]
  },
  {
   "cell_type": "code",
   "execution_count": 55,
   "metadata": {},
   "outputs": [
    {
     "name": "stdout",
     "output_type": "stream",
     "text": [
      "Original List: ['Lab', 'Pug', 'Poodle', 'Poodle', 'Pug', 'Poodle']\n",
      "Modified List: ['Lab', 'Pug', 'Poodle', 'Pug', 'Poodle']\n"
     ]
    }
   ],
   "source": [
    "dogs = [\"Lab\", \"Pug\", \"Poodle\", \"Poodle\", \"Pug\", \"Poodle\"]\n",
    "# [ ] remove one \"Poodle\" from the list: dogs , or print \"no Poodle found\"\n",
    "print(\"Original List:\",dogs)\n",
    "# [ ] print list before and after\n",
    "dogs.remove(\"Poodle\")\n",
    "print(\"Modified List:\",dogs)"
   ]
  },
  {
   "cell_type": "markdown",
   "metadata": {},
   "source": [
    "# Practice\n",
    "### Create Lists\n"
   ]
  },
  {
   "cell_type": "code",
   "execution_count": 58,
   "metadata": {},
   "outputs": [
    {
     "name": "stdout",
     "output_type": "stream",
     "text": [
      "Days:  ['Sunday', 'Monday', 'Tuesday', 'Wednesday', 'Thursday', 'Friday', 'Saturday']\n",
      "Day 1: Monday\n",
      "Day 3: Wednesday\n",
      "Day 5: Friday\n"
     ]
    }
   ],
   "source": [
    "# [ ] create and populate list called days_of_week then print it\n",
    "days_of_week = [\"Sunday\",\"Monday\",\"Tuesday\",\"Wednesday\",\"Thursday\",\"Friday\",\"Saturday\"]\n",
    "print(\"Days: \",days_of_week)\n",
    "\n",
    "# [ ] after days_of_week is run above, print the days in the list at odd indexes 1,3,5\n",
    "print(\"Day 1:\",days_of_week[1])\n",
    "print(\"Day 3:\",days_of_week[3])\n",
    "print(\"Day 5:\",days_of_week[5])"
   ]
  },
  {
   "cell_type": "markdown",
   "metadata": {},
   "source": [
    "# Phone letters\n",
    "##### phone keys: number and letters\n",
    "```\n",
    "0 = ' ' (a space)\n",
    "1 = '' (empty)\n",
    "2 = 'ABC'\n",
    "3 = 'DEF'\n",
    "etc...\n",
    "```\n",
    "##### Create a list, phone_letters, where the index 0 - 9 contains the letters for keys 0 - 9.\n",
    "\n"
   ]
  },
  {
   "cell_type": "code",
   "execution_count": 60,
   "metadata": {},
   "outputs": [
    {
     "name": "stdout",
     "output_type": "stream",
     "text": [
      "[' ', '', 'ABC', 'DEF', 'GHI', 'JKL', 'MNO', 'PQRS', 'TUV', 'WXYZ']\n"
     ]
    }
   ],
   "source": [
    "# [ ] create and populate list called phone_letters then print it\n",
    "phone_letters = [\" \",\"\",\"ABC\",\"DEF\",\"GHI\",\"JKL\",\"MNO\",\"PQRS\",\"TUV\",\"WXYZ\"]\n",
    "print(phone_letters)"
   ]
  },
  {
   "cell_type": "markdown",
   "metadata": {},
   "source": [
    "# Access Lists\n",
    "### for the 2 cells below\n",
    "- Use days_of_week list created above\n",
    "- Run the cell above to make the list available\n"
   ]
  },
  {
   "cell_type": "code",
   "execution_count": 64,
   "metadata": {},
   "outputs": [
    {
     "name": "stdout",
     "output_type": "stream",
     "text": [
      "['Tuesday']\n",
      "['Friday']\n"
     ]
    }
   ],
   "source": [
    "# [ ] create a variable: day, assign day to \"Tuesday\" using days_of_week[]\n",
    "days_of_week = [\"Sunday\",\"Monday\",\"Tuesday\",\"Wednesday\",\"Thursday\",\"Friday\",\"Saturday\"]\n",
    "day = [days_of_week[2]]\n",
    "# [ ] print day variable\n",
    "print(day)\n",
    "\n",
    "\n",
    "\n",
    "# PART 2\n",
    "# [ ] assign day to days_of_week index = 5\n",
    "day = [days_of_week[5]]\n",
    "# [ ] print day\n",
    "print(day)"
   ]
  },
  {
   "cell_type": "markdown",
   "metadata": {},
   "source": [
    "# Append and Insert items into a list\n",
    "### Endsday, Midsday, Resterday\n",
    "##### for the exercises below\n",
    "- Use days_of_week list created above\n",
    "- Run the cell defining days_of_week above to make the list available"
   ]
  },
  {
   "cell_type": "code",
   "execution_count": 70,
   "metadata": {},
   "outputs": [
    {
     "name": "stdout",
     "output_type": "stream",
     "text": [
      "['Sunday', 'Monday', 'Tuesday', 'Wednesday', 'Thursday', 'Friday', 'Saturday', 'Holiday']\n"
     ]
    }
   ],
   "source": [
    "# [ ] Make up a new day! - append an 8th day of the week to days_of_week \n",
    "days_of_week = [\"Sunday\",\"Monday\",\"Tuesday\",\"Wednesday\",\"Thursday\",\"Friday\",\"Saturday\"]\n",
    "days_of_week.append(\"Holiday\")\n",
    "# [ ] print days_of_week\n",
    "print(days_of_week)"
   ]
  },
  {
   "cell_type": "markdown",
   "metadata": {},
   "source": [
    "# Question\n",
    "- What happens if you keep running the cell above?\n",
    "- How can you return to the initial state with the regular 7 days in days_of_week?"
   ]
  },
  {
   "cell_type": "code",
   "execution_count": 72,
   "metadata": {},
   "outputs": [
    {
     "name": "stdout",
     "output_type": "stream",
     "text": [
      "['Sunday', 'Monday', 'Tuesday', 'Wednesday', 'Holiday', 'Thursday', 'Friday', 'Saturday']\n",
      "['Sunday', 'Monday', 'Tuesday', 'Wednesday', 'Holiday', 'Thursday', 'Friday', 'funday', 'Saturday']\n"
     ]
    }
   ],
   "source": [
    "# [ ] Make up another new day - insert a new day into the middle of days_of_week between Wed - Thurs\n",
    "days_of_week = [\"Sunday\",\"Monday\",\"Tuesday\",\"Wednesday\",\"Thursday\",\"Friday\",\"Saturday\"]\n",
    "days_of_week.insert(4,\"Holiday\")\n",
    "# [ ] print days_of_week\n",
    "print(days_of_week)\n",
    "\n",
    "\n",
    "# [ ]  Extend the weekend - insert a day between Fri & Sat in the days_of_week list\n",
    "days_of_week.insert(7,\"funday\")\n",
    "# [ ] print days_of_week\n",
    "print(days_of_week)"
   ]
  },
  {
   "cell_type": "markdown",
   "metadata": {},
   "source": [
    "# Delete from a list\n",
    "#### del & .pop() some bad ideas\n",
    "#### exercises below assume days_of_week appended/inserted 3 extra days in previous exercises"
   ]
  },
  {
   "cell_type": "code",
   "execution_count": 77,
   "metadata": {},
   "outputs": [
    {
     "name": "stdout",
     "output_type": "stream",
     "text": [
      "Popped list: Saturday\n",
      "['Sunday', 'Monday', 'Tuesday', 'Wednesday', 'Thursday', 'Friday']\n",
      "['Sunday', 'Monday', 'Tuesday', 'Thursday', 'Friday']\n",
      "['Sunday', 'Monday', 'Thursday', 'Friday']\n"
     ]
    }
   ],
   "source": [
    "# [ ] print days_of_week \n",
    "days_of_week = [\"Sunday\",\"Monday\",\"Tuesday\",\"Wednesday\",\"Thursday\",\"Friday\",\"Saturday\"]\n",
    "# [ ] modified week is too long - pop() the last index of days_of_week & print .pop() value\n",
    "print(\"Popped list:\",days_of_week.pop())\n",
    "# [ ] print days_of_week\n",
    "print(days_of_week)\n",
    "\n",
    "\n",
    "# [ ] delete (del) the new day added to the middle of the week \n",
    "# deleting WEDNESDAY\n",
    "del days_of_week[3]\n",
    "# [ ] print days_of_week\n",
    "print(days_of_week)\n",
    "\n",
    "# [ ] programmers choice - pop() any day in days_of week & print .pop() value\n",
    "days_of_week.pop(2)\n",
    "# [ ] print days_of_week\n",
    "print(days_of_week)\n"
   ]
  },
  {
   "cell_type": "markdown",
   "metadata": {},
   "source": [
    "# Program: Letter to Number Function\n",
    "### for the exercise below\n",
    "- Use phone_letters list created above\n",
    "- Run the cell above to make the list available\n",
    "##### recall unit 1 using in to search for a string in a string\n",
    "```\n",
    "if \"e\" in \"open\":\n",
    "    print(\"e found\")\n",
    "else:\n",
    "   print(\"e not found\")\n",
    "```\n",
    "### create function let_to_num()\n",
    "- let_to_num() takes input of a single letter, space or empty string stored in an argument variable: letter\n",
    "```\n",
    "-- use while key < 10: to try numbers 0 - 9 as index for phone_letters (\"key\" = phone dial pad key)\n",
    "-- check if letter variable is in the index of phone_letters[key]\n",
    "```\n",
    "```\n",
    "key = 0\n",
    "while key < 10:\n",
    "    if # Create Code: determine if letter is **`in`** any of the phone_letters[key] where key is the index 0 -9:\n",
    "        return key\n",
    "    else:\n",
    "        key = key + 1\n",
    "return \"Not Found\"\n",
    "```\n",
    "- return the number or \"Not Found\"\n",
    "- call let_to_num() to test the function so it prints the argument and return value with:\n",
    "```\n",
    "space\n",
    "lowercase letter\n",
    "different letter, uppercase\n",
    "a number\n",
    "```\n",
    "\n",
    "##### Bonus: create a special case to check if empty string (\"\") was submitted\n",
    "##### the problem is that an empty string will be found in all strings as\n",
    "\n",
    "##### if \"\" in \"ABC\": \n",
    "##### is True, and is true for any phone_letters, but should return 1\n"
   ]
  },
  {
   "cell_type": "code",
   "execution_count": 79,
   "metadata": {},
   "outputs": [
    {
     "name": "stdout",
     "output_type": "stream",
     "text": [
      "[' ', '', 'ABC', 'DEF', 'GHI', 'JKL', 'MNO', 'PQRS', 'TUV', 'WXYZ']\n",
      "0\n",
      "Not Found\n",
      "7\n",
      "Not Found\n"
     ]
    }
   ],
   "source": [
    "# [ ] create and populate list called phone_letters then print it\n",
    "phone_letters = [\" \",\"\",\"ABC\",\"DEF\",\"GHI\",\"JKL\",\"MNO\",\"PQRS\",\"TUV\",\"WXYZ\"]\n",
    "print(phone_letters)\n",
    "# [ ] create let_to_num()\n",
    "def let_to_num(letter):\n",
    "    key = 0\n",
    "    while key < 10:\n",
    "        if letter in phone_letters[key]:# Create Code: determine if letter is **`in`** any of the phone_letters[key] where key is the index 0 -9:\n",
    "            return key\n",
    "        else:\n",
    "          key = key + 1\n",
    "    return \"Not Found\"\n",
    "\n",
    "print(let_to_num(\" \"))\n",
    "print(let_to_num(\"p\"))\n",
    "print(let_to_num(\"S\"))\n",
    "print(let_to_num(\"7\"))\n"
   ]
  },
  {
   "cell_type": "markdown",
   "metadata": {},
   "source": [
    "# Challenge: reverse a string\n",
    "### using\n",
    "```\n",
    "- while\n",
    "- .pop()\n",
    "- insert()\n",
    "```\n",
    "### pop() the first item in the list and add to the beginning of a new string that will be reversed\n"
   ]
  },
  {
   "cell_type": "code",
   "execution_count": 82,
   "metadata": {},
   "outputs": [
    {
     "name": "stdout",
     "output_type": "stream",
     "text": [
      "[77, 66, 55, 44, 33, 22, 11, 9, 8, 7, 6, 5, 4, 3, 2, 1]\n",
      "['World', 'Hello']\n"
     ]
    }
   ],
   "source": [
    "# [ ] Challenge: write the code for \"reverse a string\" reversing some_numbers\n",
    "\n",
    "some_numbers =[1,2,3,4,5,6,7,8,9,11,22,33,44,55,66,77]\n",
    "new_list_1 = []\n",
    "for x in some_numbers[::-1]:\n",
    "    new_list_1 += [x]\n",
    "print(new_list_1)\n",
    "\n",
    "new_list_2 = []\n",
    "some_string = [\"Hello\",\"World\"]\n",
    "for item in some_string[::-1]:\n",
    "    new_list_2 += [item]\n",
    "print(new_list_2)"
   ]
  },
  {
   "cell_type": "markdown",
   "metadata": {},
   "source": [
    "#  Module 2 Required Coding Activity  \n",
    "Introduction to Python (Unit 2) Fundamentals \n",
    "​\n",
    "**This Activity is intended to be completed in the jupyter notebook, Required_Code_MOD2_IntroPy.ipynb, and then pasted into the assessment page that follows.**   \n",
    " \n",
    "All course .ipynb Jupyter Notebooks are available from the project files download topic in Module 1, Section 1.\n",
    "​\n",
    "This is an activity based on code similar to the Jupyter Notebook **`Practice_MOD02_IntroPy.ipynb`** which you may have completed.  \n",
    "​\n",
    "| Important Assignment Requirements |  \n",
    "|:-------------------------------|  \n",
    "| **NOTE:** This program requires creating a function using **`def`** and **`return`**, using **`print`** output, **`input`**, **`if`**, **`in`** keywords, **`.append()`**, **`.pop()`**, **`.remove()`** list methods.  As well as other standard Python |   \n",
    "​\n",
    "## Program: list-o-matic  \n",
    "This program takes string input and checks if that string is in a list of strings    \n",
    "- if string is in the list it removes the first instance from list  \n",
    "- if string is not in the list the input gets appended to the list  \n",
    "- if the string is empty then the last item is popped from the list \n",
    "- if the **list becomes empty** the program ends  \n",
    "- if the user enters \"quit\" then the program ends  \n",
    "​\n",
    "program has 2 parts  \n",
    "- **program flow** which can be modified to ask for a specific type of item.  This is the programmers choice.  Add a list of fish, trees, books, movies, songs.... your choice.  \n",
    "- **list-o-matic** Function which takes arguments of a string and a list.  The function modifies the list and returns a message as seen below.  \n",
    "​\n",
    "![TODO: upload image to blob](https://q4tiyg-ch3302.files.1drv.com/y4mkvwrxHSIqinTvp_nNGFiMn_yyJ0dsEtCzPpG_hsFMRdyEED4ExPdsWmbdPIKRpgU25VxFIUAGBdz0yzqumtxw7wy_pAJMJ3MeZ6PJQKyej6UwN6N6zOmnRq6106aqvXJB43RKRJgB2oMmidb9Zl0OBjmvFVowm-XtD2wUW5bJrgd4LS8I5Nso_vXqfpNCANRYcKe4WnjIWds4KoV4sjPIg?width=717&height=603&cropmode=none)\n",
    "​\n",
    "**[ ]** initialize a list with several strings at the beginning of the program flow and follow the flow chart and output examples\n",
    "​\n",
    " *example input/output*  \n",
    " ```\n",
    "look at all the animals ['cat', 'goat', 'cat']\n",
    "enter the name of an animal: horse\n",
    "1 instance of horse appended to list\n",
    "​\n",
    "look at all the animals ['cat', 'goat', 'cat', 'horse']\n",
    "enter the name of an animal: cat\n",
    "1 instance of cat removed from list\n",
    "​\n",
    "look at all the animals ['goat', 'cat', 'horse']\n",
    "enter the name of an animal: cat\n",
    "1 instance of cat removed from list\n",
    "​\n",
    "look at all the animals ['goat', 'horse']\n",
    "enter the name of an animal:          (<-- entered empty string)\n",
    "horse popped from list\n",
    "​\n",
    "look at all the animals ['goat']\n",
    "enter the name of an animal:          (<-- entered empty string)\n",
    "goat popped from list\n",
    "​\n",
    "Goodbye!\n",
    "```  \n",
    "​\n",
    "*example 2*\n",
    "```\n",
    "look at all the animals ['cat', 'goat', 'cat']\n",
    "enter the name of an animal: Quit\n",
    "Goodbye!\n",
    "```  "
   ]
  },
  {
   "cell_type": "code",
   "execution_count": 1,
   "metadata": {},
   "outputs": [
    {
     "name": "stdout",
     "output_type": "stream",
     "text": [
      "['cat', 'dog', 'goat', 'camel', 'sheep']\n",
      "Enter the name of an animal: \n",
      "['cat', 'dog', 'goat', 'camel']\n",
      "sheep popped from list\n"
     ]
    }
   ],
   "source": [
    "# [] create list-o-matic\n",
    "def list_o_matic(animal_name):\n",
    "    if animal_name == \"\":\n",
    "        return animals.pop()+\" popped from list\"\n",
    "    else:\n",
    "        if animal_name in animals:\n",
    "            animals.remove(animal_name)\n",
    "            return \"1 instance of \"+animal_name+\" removed from list\"\n",
    "        else:\n",
    "            animals.append(animal_name)\n",
    "            return \"1 instance of \"+animal_name+\" appended to list\"\n",
    "# [] copy and paste in edX assignment page\n",
    "animals = [\"cat\",\"dog\",\"goat\",\"camel\",\"sheep\"]\n",
    "if animals == []:\n",
    "    print(\"Empty List\")\n",
    "else:\n",
    "    print(animals)\n",
    "    animal_name = input(\"Enter the name of an animal: \")\n",
    "    if animal_name.lower() == \"quit\":\n",
    "        print(\"Goodbye!\")\n",
    "    else:\n",
    "        msg = list_o_matic(animal_name)\n",
    "        print(animals)\n",
    "        print(msg)\n",
    "\n"
   ]
  },
  {
   "cell_type": "code",
   "execution_count": null,
   "metadata": {
    "collapsed": true
   },
   "outputs": [],
   "source": []
  }
 ],
 "metadata": {
  "kernelspec": {
   "display_name": "Python 3",
   "language": "python",
   "name": "python3"
  },
  "language_info": {
   "codemirror_mode": {
    "name": "ipython",
    "version": 3
   },
   "file_extension": ".py",
   "mimetype": "text/x-python",
   "name": "python",
   "nbconvert_exporter": "python",
   "pygments_lexer": "ipython3",
   "version": "3.6.3"
  }
 },
 "nbformat": 4,
 "nbformat_minor": 2
}
