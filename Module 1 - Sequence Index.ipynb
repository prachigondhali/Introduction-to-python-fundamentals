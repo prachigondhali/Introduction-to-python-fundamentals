{
 "cells": [
  {
   "cell_type": "markdown",
   "metadata": {},
   "source": [
    "# Module 1 Section 1: String Index"
   ]
  },
  {
   "cell_type": "markdown",
   "metadata": {},
   "source": [
    "### String Index\n",
    "### Accessing a single String Character\n"
   ]
  },
  {
   "cell_type": "code",
   "execution_count": 1,
   "metadata": {},
   "outputs": [
    {
     "data": {
      "text/plain": [
       "'A'"
      ]
     },
     "execution_count": 1,
     "metadata": {},
     "output_type": "execute_result"
    }
   ],
   "source": [
    "# assign string to student_name\n",
    "student_name = \"Alton\"\n",
    "# first character is at index 0\n",
    "student_name[0]\n"
   ]
  },
  {
   "cell_type": "code",
   "execution_count": 2,
   "metadata": {},
   "outputs": [
    {
     "name": "stdout",
     "output_type": "stream",
     "text": [
      "A <-- first character at index 0\n",
      "l\n",
      "t\n",
      "o\n",
      "n\n"
     ]
    }
   ],
   "source": [
    "# [ ] review and run example - note the first element is always index = 0\n",
    "student_name = \"Alton\"\n",
    "print(student_name[0], \"<-- first character at index 0\")\n",
    "print(student_name[1])\n",
    "print(student_name[2])\n",
    "print(student_name[3])\n",
    "print(student_name[4])\n"
   ]
  },
  {
   "cell_type": "code",
   "execution_count": 3,
   "metadata": {},
   "outputs": [
    {
     "name": "stdout",
     "output_type": "stream",
     "text": [
      "Winner! Name starts with J: Jin\n"
     ]
    }
   ],
   "source": [
    "# [ ] review and run example\n",
    "student_name = \"Jin\"\n",
    "if student_name[0].lower() == \"a\":\n",
    "    print('Winner! Name starts with A:', student_name)\n",
    "elif student_name[0].lower() == \"j\":\n",
    "    print('Winner! Name starts with J:', student_name)\n",
    "else:\n",
    "    print('Not a match, try again tomorrow:', student_name)\n"
   ]
  },
  {
   "cell_type": "code",
   "execution_count": 4,
   "metadata": {},
   "outputs": [
    {
     "ename": "IndexError",
     "evalue": "string index out of range",
     "output_type": "error",
     "traceback": [
      "\u001b[1;31m---------------------------------------------------------------------------\u001b[0m",
      "\u001b[1;31mIndexError\u001b[0m                                Traceback (most recent call last)",
      "\u001b[1;32m<ipython-input-4-c728c718a420>\u001b[0m in \u001b[0;36m<module>\u001b[1;34m()\u001b[0m\n\u001b[0;32m      2\u001b[0m \u001b[1;31m# cannot index out of range\u001b[0m\u001b[1;33m\u001b[0m\u001b[1;33m\u001b[0m\u001b[0m\n\u001b[0;32m      3\u001b[0m \u001b[0mstudent_name\u001b[0m \u001b[1;33m=\u001b[0m \u001b[1;34m\"Tobias\"\u001b[0m\u001b[1;33m\u001b[0m\u001b[0m\n\u001b[1;32m----> 4\u001b[1;33m \u001b[0mprint\u001b[0m\u001b[1;33m(\u001b[0m\u001b[0mstudent_name\u001b[0m\u001b[1;33m[\u001b[0m\u001b[1;36m6\u001b[0m\u001b[1;33m]\u001b[0m\u001b[1;33m)\u001b[0m\u001b[1;33m\u001b[0m\u001b[0m\n\u001b[0m",
      "\u001b[1;31mIndexError\u001b[0m: string index out of range"
     ]
    }
   ],
   "source": [
    "# [ ] review and run ERROR example\n",
    "# cannot index out of range\n",
    "student_name = \"Tobias\"\n",
    "print(student_name[6])\n"
   ]
  },
  {
   "cell_type": "code",
   "execution_count": 5,
   "metadata": {},
   "outputs": [
    {
     "name": "stdout",
     "output_type": "stream",
     "text": [
      "s\n"
     ]
    }
   ],
   "source": [
    "# Correction - Index starts with 0 and Tobias contains 6 letters, which will have index from 0-5\n",
    "\n",
    "student_name = \"Tobias\"\n",
    "print(student_name[5])\n"
   ]
  },
  {
   "cell_type": "markdown",
   "metadata": {},
   "source": [
    "# Task 1\n"
   ]
  },
  {
   "cell_type": "code",
   "execution_count": 10,
   "metadata": {},
   "outputs": [
    {
     "name": "stdout",
     "output_type": "stream",
     "text": [
      "F\n",
      "s\n",
      "i\n",
      "  <-- Space\n",
      "S\n",
      "Enter team name: codex\n",
      "2nd character of Team Name is: o\n"
     ]
    }
   ],
   "source": [
    "# [ ] assign a string 5 or more letters long to the variable: street_name\n",
    "street_name = \"Fashion Street\"\n",
    "\n",
    "# [ ] print the 1st, 3rd and 5th characters\n",
    "print(street_name[0])\n",
    "print(street_name[2])\n",
    "print(street_name[4])\n",
    "\n",
    "## Extra\n",
    "print(street_name[7],\"<-- Space\")\n",
    "print(street_name[8])\n",
    "\n",
    "# [ ] Create an input variable: team_name - ask that second letter = \"i\", \"o\", or \"u\"\n",
    "team_name = input(\"Enter team name: \")\n",
    "\n",
    "# [ ] Test if team_name 2nd character = \"i\", \"o\", or \"u\" and print a message\n",
    "if team_name[1] == \"i\":\n",
    "    print(\"2nd character of Team Name is: i\")\n",
    "elif team_name[1] == \"o\":\n",
    "    print(\"2nd character of Team Name is: o\")\n",
    "elif team_name[1] == \"u\":\n",
    "    print(\"2nd character of Team Name is: u\")\n",
    "else:\n",
    "    print(\"2nd character of Team Name doesn't start with 'i', 'o' or 'u'\")\n",
    "# note: use if, elif and else\n"
   ]
  },
  {
   "cell_type": "markdown",
   "metadata": {},
   "source": [
    "### Negative Index"
   ]
  },
  {
   "cell_type": "code",
   "execution_count": 11,
   "metadata": {},
   "outputs": [
    {
     "name": "stdout",
     "output_type": "stream",
     "text": [
      "Joana ends with 'a'\n",
      "Joana has 2nd to last letter of 'n'\n",
      "for Joana\n",
      "index 3 = 'n'\n",
      "index -2 = 'n'\n"
     ]
    }
   ],
   "source": [
    "# [ ] review and run example\n",
    "student_name = \"Joana\"\n",
    "\n",
    "# get last letter\n",
    "end_letter = student_name[-1]\n",
    "print(student_name,\"ends with\", \"'\" + end_letter + \"'\")\n",
    "\n",
    "# [ ] review and run example\n",
    "# get second to last letter\n",
    "second_last_letter = student_name[-2]\n",
    "print(student_name,\"has 2nd to last letter of\", \"'\" + second_last_letter + \"'\")\n",
    "# [ ] review and run example\n",
    "\n",
    "# you can get to the same letter with index counting + or -\n",
    "print(\"for\", student_name)\n",
    "print(\"index 3 =\", \"'\" + student_name[3] + \"'\")\n",
    "print(\"index -2 =\",\"'\" + student_name[-2] + \"'\")"
   ]
  },
  {
   "cell_type": "markdown",
   "metadata": {},
   "source": [
    "# Task 2"
   ]
  },
  {
   "cell_type": "code",
   "execution_count": 16,
   "metadata": {},
   "outputs": [
    {
     "name": "stdout",
     "output_type": "stream",
     "text": [
      "last charater: t\n",
      "second-last character: e\n",
      "third-last charater: e\n",
      "First letter of first_name: P\n",
      "Last letter of first_name: i\n"
     ]
    }
   ],
   "source": [
    "# [ ] assign a string 5 or more letters long to the variable: street_name\n",
    "street_name = \"Fashion Street\"\n",
    "\n",
    "# [ ] print the last 3 characters of street_name\n",
    "print(\"last charater: \"+ street_name[-1])\n",
    "print(\"second-last character: \"+ street_name[-2])\n",
    "print(\"third-last charater: \"+ street_name[-3])\n",
    "\n",
    "# [ ] create and assign string variable: first_name\n",
    "first_name = \"Prachi\"\n",
    "\n",
    "# [ ] print the first and last letters of name\n",
    "print(\"First letter of first_name: \"+ first_name[0])\n",
    "print(\"Last letter of first_name: \"+ first_name[-1])"
   ]
  },
  {
   "cell_type": "markdown",
   "metadata": {},
   "source": [
    "# Task 3"
   ]
  },
  {
   "cell_type": "code",
   "execution_count": 17,
   "metadata": {},
   "outputs": [
    {
     "ename": "SyntaxError",
     "evalue": "invalid syntax (<ipython-input-17-7ccaaf8b785e>, line 1)",
     "output_type": "error",
     "traceback": [
      "\u001b[1;36m  File \u001b[1;32m\"<ipython-input-17-7ccaaf8b785e>\"\u001b[1;36m, line \u001b[1;32m1\u001b[0m\n\u001b[1;33m    Fix the Errors\u001b[0m\n\u001b[1;37m          ^\u001b[0m\n\u001b[1;31mSyntaxError\u001b[0m\u001b[1;31m:\u001b[0m invalid syntax\n"
     ]
    }
   ],
   "source": [
    "Fix the Errors\n",
    "# [ ] Review, Run, Fix the error using string index\n",
    "shoe = \"tennis\"\n",
    "# print the last letter\n",
    "print(shoe(-1))"
   ]
  },
  {
   "cell_type": "code",
   "execution_count": 18,
   "metadata": {},
   "outputs": [
    {
     "name": "stdout",
     "output_type": "stream",
     "text": [
      "s\n"
     ]
    }
   ],
   "source": [
    "shoe = \"tennis\"\n",
    "# print the last letter\n",
    "print(shoe[-1])"
   ]
  },
  {
   "cell_type": "markdown",
   "metadata": {},
   "source": [
    "# Module 1 Section 2: Index Slicing"
   ]
  },
  {
   "cell_type": "markdown",
   "metadata": {},
   "source": [
    "## Accessing sub-strings\n"
   ]
  },
  {
   "cell_type": "code",
   "execution_count": 19,
   "metadata": {},
   "outputs": [
    {
     "name": "stdout",
     "output_type": "stream",
     "text": [
      "slice student_name[2:5]: let\n",
      "index 2, 3 & 4 of student_name: let\n",
      "knowledge\n",
      "knowledge is the 3rd char through the 11th char\n",
      "knowledge is the index 2, \"k\", through index 10, \"e\"\n"
     ]
    }
   ],
   "source": [
    "# [ ] review and run example\n",
    "# assign string to student_name\n",
    "student_name = \"Colette\"\n",
    "\n",
    "# addressing the 3rd, 4th and 5th characters using a slice\n",
    "print(\"slice student_name[2:5]:\",student_name[2:5])\n",
    "# [ ] review and run example\n",
    "# assign string to student_name\n",
    "student_name = \"Colette\"\n",
    "\n",
    "# addressing the 3rd, 4th and 5th characters individually\n",
    "print(\"index 2, 3 & 4 of student_name:\", student_name[2] + student_name[3] + student_name[4])\n",
    "# [ ] review and run example\n",
    "long_word = 'Acknowledgement'\n",
    "print(long_word[2:11])\n",
    "print(long_word[2:11], \"is the 3rd char through the 11th char\")\n",
    "print(long_word[2:11], \"is the index 2, \\\"\" + long_word[2] + \"\\\",\", \"through index 10, \\\"\" + long_word[10] + \"\\\"\")"
   ]
  },
  {
   "cell_type": "markdown",
   "metadata": {},
   "source": [
    "# Task 1\n"
   ]
  },
  {
   "cell_type": "code",
   "execution_count": 23,
   "metadata": {},
   "outputs": [
    {
     "name": "stdout",
     "output_type": "stream",
     "text": [
      "Printing 'act': act\n",
      "Printing 'tic': tic\n",
      "Printing 'sequence': sequence\n"
     ]
    }
   ],
   "source": [
    "#slice a string\n",
    "#start & stop index\n",
    "# [ ] slice long_word to print \"act\" and to print \"tic\"\n",
    "long_word = \"characteristics\"\n",
    "print(\"Printing 'act': \"+ long_word[4:7])\n",
    "print(\"Printing 'tic': \"+ long_word[11:14])\n",
    "\n",
    "# [ ] slice long_word to print \"sequence\"\n",
    "long_word = \"Consequences\"\n",
    "print(\"Printing 'sequence': \"+ long_word[3:11])"
   ]
  },
  {
   "cell_type": "markdown",
   "metadata": {},
   "source": [
    "### Accessing beginning of sub-strings\n"
   ]
  },
  {
   "cell_type": "code",
   "execution_count": 26,
   "metadata": {},
   "outputs": [
    {
     "name": "stdout",
     "output_type": "stream",
     "text": [
      "Col\n",
      "Col\n"
     ]
    }
   ],
   "source": [
    "# [ ] review and run example\n",
    "student_name = \"Colette\"\n",
    "# addressing the 1st, 2nd & 3rd characters\n",
    "print(student_name[:3])\n",
    "# or\n",
    "print(student_name[0:3])"
   ]
  },
  {
   "cell_type": "markdown",
   "metadata": {},
   "source": [
    "# Task 2\n"
   ]
  },
  {
   "cell_type": "code",
   "execution_count": 27,
   "metadata": {},
   "outputs": [
    {
     "name": "stdout",
     "output_type": "stream",
     "text": [
      "Printing 1s't half of 'Consequences': Conseq\n"
     ]
    }
   ],
   "source": [
    "# [ ] print the first half of the long_word\n",
    "long_word = \"Consequences\"\n",
    "print(\"Printing 1s't half of 'Consequences': \"+ long_word[:6])"
   ]
  },
  {
   "cell_type": "markdown",
   "metadata": {},
   "source": [
    "### Accessing ending of sub-strings"
   ]
  },
  {
   "cell_type": "code",
   "execution_count": 28,
   "metadata": {},
   "outputs": [
    {
     "data": {
      "text/plain": [
       "'ette'"
      ]
     },
     "execution_count": 28,
     "metadata": {},
     "output_type": "execute_result"
    }
   ],
   "source": [
    "# [ ] review and run example\n",
    "student_name = \"Colette\"\n",
    "#  4th, 5th, 6th and 7th characters\n",
    "student_name[3:]\n"
   ]
  },
  {
   "cell_type": "markdown",
   "metadata": {},
   "source": [
    "# Task 3\n"
   ]
  },
  {
   "cell_type": "code",
   "execution_count": 8,
   "metadata": {},
   "outputs": [
    {
     "name": "stdout",
     "output_type": "stream",
     "text": [
      "Printing 2'nd half of the word 'Consequences': uences\n",
      "Enter parking number: 4\n",
      "No parking on i street\n"
     ]
    }
   ],
   "source": [
    "# [ ] print the second half of the long_word\n",
    "long_word = \"Consequences\"\n",
    "print(\"Printing 2'nd half of the word 'Consequences': \"+ long_word[6:])\n",
    "# [ ] print a message that there is \"No Parking\" on index 0 or index 4 streets\n",
    "\n",
    "street_name = \"Fashion\"\n",
    "park = input(\"Enter parking number: \")\n",
    "if int(park) == 0:\n",
    "    print(\"No Parking on \"+ street_name[0] + \" street\")\n",
    "elif int(park) == 4:\n",
    "    print(\"No parking on \"+ street_name[4] + \" street\")\n",
    "else:\n",
    "    print(\"You can park on \"+ street_name[int(park)] + \" street\")"
   ]
  },
  {
   "cell_type": "markdown",
   "metadata": {
    "collapsed": true
   },
   "source": [
    "### Access sub-strings by Step size"
   ]
  },
  {
   "cell_type": "code",
   "execution_count": 9,
   "metadata": {},
   "outputs": [
    {
     "name": "stdout",
     "output_type": "stream",
     "text": [
      "Colette\n"
     ]
    }
   ],
   "source": [
    "# [ ] review and run example\n",
    "student_name = \"Colette\"\n",
    "# return all\n",
    "print(student_name[:])"
   ]
  },
  {
   "cell_type": "code",
   "execution_count": 10,
   "metadata": {},
   "outputs": [
    {
     "name": "stdout",
     "output_type": "stream",
     "text": [
      "Clte\n"
     ]
    }
   ],
   "source": [
    "# [ ] review and run example\n",
    "student_name = \"Colette\"\n",
    "# return every other\n",
    "print(student_name[::2])"
   ]
  },
  {
   "cell_type": "code",
   "execution_count": 11,
   "metadata": {},
   "outputs": [
    {
     "name": "stdout",
     "output_type": "stream",
     "text": [
      "oet\n"
     ]
    }
   ],
   "source": [
    "# [ ] review and run example\n",
    "student_name = \"Colette\"\n",
    "# return every third, starting at 2nd character\n",
    "print(student_name[1::2])"
   ]
  },
  {
   "cell_type": "code",
   "execution_count": 12,
   "metadata": {},
   "outputs": [
    {
     "name": "stdout",
     "output_type": "stream",
     "text": [
      "osqe\n"
     ]
    }
   ],
   "source": [
    "# [ ] review and run example\n",
    "long_word = \"Consequences\"\n",
    "# starting at 2nd char (index 1) to 9th character, return every other character\n",
    "print(long_word[1:9:2])"
   ]
  },
  {
   "cell_type": "markdown",
   "metadata": {},
   "source": [
    "# Task 4"
   ]
  },
  {
   "cell_type": "code",
   "execution_count": 13,
   "metadata": {},
   "outputs": [
    {
     "name": "stdout",
     "output_type": "stream",
     "text": [
      "Anlge\n",
      "koldeet\n"
     ]
    }
   ],
   "source": [
    "# [ ] print the 1st and every 3rd letter of long_word\n",
    "long_word = \"Acknowledgement\"\n",
    "print(long_word[::3])\n",
    "# [ ] print every other character of long_word starting at the 3rd character\n",
    "long_word = \"Acknowledgement\"\n",
    "print(long_word[2::2])"
   ]
  },
  {
   "cell_type": "markdown",
   "metadata": {},
   "source": [
    "### Access sub-string step backwards"
   ]
  },
  {
   "cell_type": "code",
   "execution_count": 14,
   "metadata": {},
   "outputs": [
    {
     "name": "stdout",
     "output_type": "stream",
     "text": [
      "scitsiretcarahc\n"
     ]
    }
   ],
   "source": [
    "# [ ] review and run example of stepping backwards using [::-1]\n",
    "long_word = \"characteristics\"\n",
    "# make the step increment -1 to step backwards\n",
    "print(long_word[::-1])"
   ]
  },
  {
   "cell_type": "code",
   "execution_count": 15,
   "metadata": {},
   "outputs": [
    {
     "name": "stdout",
     "output_type": "stream",
     "text": [
      "tcarahc\n"
     ]
    }
   ],
   "source": [
    "# [ ] review and run example of stepping backwards using [6::-1]\n",
    "long_word = \"characteristics\"\n",
    "# start at the 7th letter backwards to start\n",
    "print(long_word[6::-1])"
   ]
  },
  {
   "cell_type": "markdown",
   "metadata": {},
   "source": [
    "# Task 5"
   ]
  },
  {
   "cell_type": "code",
   "execution_count": 18,
   "metadata": {},
   "outputs": [
    {
     "name": "stdout",
     "output_type": "stream",
     "text": [
      "desserts\n",
      "arahc\n"
     ]
    }
   ],
   "source": [
    "# [ ] reverse long_word\n",
    "long_word = \"stressed\"\n",
    "print(long_word[::-1])\n",
    "# [ ] print the first 5 letters of long_word in reverse\n",
    "long_word = \"characteristics\"\n",
    "print(long_word[4::-1])"
   ]
  },
  {
   "cell_type": "markdown",
   "metadata": {},
   "source": [
    "# Task 6"
   ]
  },
  {
   "cell_type": "code",
   "execution_count": 31,
   "metadata": {},
   "outputs": [
    {
     "name": "stdout",
     "output_type": "stream",
     "text": [
      "time\n",
      "emit\n",
      "enil\n",
      "nile\n"
     ]
    }
   ],
   "source": [
    "long_word = \"timeline\"\n",
    "\n",
    "# [ ] print the first 4 letters of long_word\n",
    "print(long_word[:4])\n",
    "\n",
    "# [ ] print the first 4 letters of long_word in reverse\n",
    "print(long_word[3::-1])\n",
    "\n",
    "# [ ] print the last 4 letters of long_word in reverse\n",
    "print(long_word[-1:-5:-1])\n",
    "\n",
    "# [ ] print the letters spanning indexes 3 to 6 of long_word in Reverse\n",
    "print(long_word[6:2:-1])"
   ]
  },
  {
   "cell_type": "markdown",
   "metadata": {},
   "source": [
    "# Module 1 Section 3: Iterating Strings\n",
    "\n",
    "### Iterate a String: 1 character at a time"
   ]
  },
  {
   "cell_type": "code",
   "execution_count": 33,
   "metadata": {},
   "outputs": [
    {
     "name": "stdout",
     "output_type": "stream",
     "text": [
      "c\n",
      "e\n",
      "l\n",
      "l\n",
      "o\n"
     ]
    }
   ],
   "source": [
    "# [ ] review and run example\n",
    "word = \"cello\"\n",
    "\n",
    "for letter in word:\n",
    "    print(letter)"
   ]
  },
  {
   "cell_type": "code",
   "execution_count": 34,
   "metadata": {},
   "outputs": [
    {
     "name": "stdout",
     "output_type": "stream",
     "text": [
      "t\n",
      "r\n",
      "u\n",
      "m\n",
      "p\n",
      "e\n",
      "t\n"
     ]
    }
   ],
   "source": [
    "# [ ] review and run example\n",
    "# note: the variable 'letter' changed to 'item'\n",
    "word = \"trumpet\"\n",
    "\n",
    "for item in word:\n",
    "    print(item)"
   ]
  },
  {
   "cell_type": "code",
   "execution_count": 35,
   "metadata": {},
   "outputs": [
    {
     "name": "stdout",
     "output_type": "stream",
     "text": [
      "p\n",
      "i\n",
      "a\n",
      "n\n",
      "o\n"
     ]
    }
   ],
   "source": [
    "# [ ] review and run example\n",
    "# note: variable is now 'xyz' \n",
    "# using 'xyz', 'item' or 'letter' are all the same result\n",
    "word = \"piano\"\n",
    "\n",
    "for xyz in word:\n",
    "    print(xyz)"
   ]
  },
  {
   "cell_type": "code",
   "execution_count": 36,
   "metadata": {},
   "outputs": [
    {
     "name": "stdout",
     "output_type": "stream",
     "text": [
      "Skye to SkYe\n"
     ]
    }
   ],
   "source": [
    "# [ ] review and run example\n",
    "# creates a new string (new_name) adding a letter (ltr) each loop\n",
    "# Q?: how many times will the loop run?\n",
    "student_name = \"Skye\"\n",
    "new_name = \"\"\n",
    "\n",
    "for ltr in student_name:\n",
    "    if ltr.lower() == \"y\":\n",
    "        new_name += ltr.upper()\n",
    "    else:\n",
    "        new_name += ltr\n",
    "print(student_name,\"to\",new_name)\n"
   ]
  },
  {
   "cell_type": "markdown",
   "metadata": {},
   "source": [
    "# Task 1"
   ]
  },
  {
   "cell_type": "code",
   "execution_count": 39,
   "metadata": {},
   "outputs": [
    {
     "name": "stdout",
     "output_type": "stream",
     "text": [
      "Enter your First Name: Prachi\n",
      "P\n",
      "r\n",
      "a\n",
      "c\n",
      "h\n",
      "i\n"
     ]
    }
   ],
   "source": [
    "# [ ] Get user input for first_name\n",
    "first_name =  input(\"Enter your First Name: \")\n",
    "\n",
    "# [ ] iterate through letters in first_name \n",
    "# print each letter on a new line\n",
    "\n",
    "for x in first_name:\n",
    "    print(x)\n",
    "\n"
   ]
  },
  {
   "cell_type": "markdown",
   "metadata": {},
   "source": [
    "# Task 2\n",
    "### Program: capitalize-io\n",
    "- get user input for first_name\n",
    "- create an empty string variable: new_name\n",
    "- iterate through letters in first_name\n",
    "- add each letter in new_name\n",
    "- capitalize if letter is an \"i\" or \"o\" *(hint: if, elif, else)\n",
    "- print new_name"
   ]
  },
  {
   "cell_type": "code",
   "execution_count": 45,
   "metadata": {},
   "outputs": [
    {
     "name": "stdout",
     "output_type": "stream",
     "text": [
      "Enter First Name: Prachi\n",
      "PrachI\n"
     ]
    }
   ],
   "source": [
    "first_name = input(\"Enter First Name: \")\n",
    "new_name = \"\"\n",
    "for x in first_name:\n",
    "    if (x == \"i\")or(x == \"o\"):\n",
    "        new_name += x.upper()\n",
    "    else:\n",
    "        new_name = new_name + x\n",
    "print(new_name)"
   ]
  },
  {
   "cell_type": "markdown",
   "metadata": {},
   "source": [
    "### Iterate sub-strings\n"
   ]
  },
  {
   "cell_type": "code",
   "execution_count": 46,
   "metadata": {},
   "outputs": [
    {
     "name": "stdout",
     "output_type": "stream",
     "text": [
      "S\n",
      "k\n",
      "y\n"
     ]
    }
   ],
   "source": [
    "# [ ] review and run example\n",
    "student_name = \"Skye\"\n",
    "\n",
    "for letter in student_name[:3]:\n",
    "    print(letter)"
   ]
  },
  {
   "cell_type": "code",
   "execution_count": 47,
   "metadata": {},
   "outputs": [
    {
     "name": "stdout",
     "output_type": "stream",
     "text": [
      "y\n",
      "k\n",
      "S\n"
     ]
    }
   ],
   "source": [
    "# Iterate BACKWARDS\n",
    "# [ ] review and run example\n",
    "student_name = \"Skye\"\n",
    "\n",
    "# start at \"y\" (student_name[2]), iterate backwards\n",
    "for letter in student_name[2::-1]:\n",
    "    print(letter)"
   ]
  },
  {
   "cell_type": "markdown",
   "metadata": {},
   "source": [
    "# Task 3"
   ]
  },
  {
   "cell_type": "code",
   "execution_count": 49,
   "metadata": {
    "scrolled": true
   },
   "outputs": [
    {
     "name": "stdout",
     "output_type": "stream",
     "text": [
      "jxaoiin\n",
      "Enter your favorite color: Black\n",
      "kcalBBlack\n"
     ]
    }
   ],
   "source": [
    "# [ ] create & print a variable, other_word, made of every other letter in long_word\n",
    "long_word = \"juxtaposition\"\n",
    "other_word = \"\"\n",
    "for letters in long_word[::2]:\n",
    "    other_word += letters\n",
    "print(other_word)\n",
    "\n",
    "# Mirror Color\n",
    "# [ ] get user input, fav_color\n",
    "fav_color = input(\"Enter your favorite color: \")\n",
    "\n",
    "# [ ] print fav_color backwards + fav_color\n",
    "print(fav_color[::-1] + fav_color)\n",
    "# example: \"Red\" prints \"deRRed\""
   ]
  },
  {
   "cell_type": "markdown",
   "metadata": {},
   "source": [
    "# Module 1 Section 4: String Methods"
   ]
  },
  {
   "cell_type": "code",
   "execution_count": 50,
   "metadata": {},
   "outputs": [
    {
     "name": "stdout",
     "output_type": "stream",
     "text": [
      "number of characters in string\n",
      "14 \n",
      "\n",
      "letter \"e\" occurrences\n",
      "2 \n",
      "\n",
      "find the index of the first space\n",
      "4 \n",
      "\n",
      "find the index of \"u\" searching a slice work_tip[3:9] - e your\n",
      "7 \n",
      "\n",
      "find the index of \"e\" searching a slice work_tip[4:] -  your code\n",
      "13\n"
     ]
    }
   ],
   "source": [
    "# [ ] review and run example\n",
    "work_tip = \"save your code\"\n",
    "\n",
    "print(\"number of characters in string\")\n",
    "print(len(work_tip),\"\\n\")\n",
    "\n",
    "print('letter \"e\" occurrences')\n",
    "print(work_tip.count(\"e\"),\"\\n\")\n",
    "\n",
    "print(\"find the index of the first space\")\n",
    "print(work_tip.find(\" \"),\"\\n\")\n",
    "\n",
    "print('find the index of \"u\" searching a slice work_tip[3:9] -', work_tip[3:9])\n",
    "print(work_tip.find(\"u\",3,9),\"\\n\")\n",
    "\n",
    "print('find the index of \"e\" searching a slice work_tip[4:] -', work_tip[4:])\n",
    "print(work_tip.find(\"e\",4))"
   ]
  },
  {
   "cell_type": "code",
   "execution_count": 51,
   "metadata": {},
   "outputs": [
    {
     "name": "stdout",
     "output_type": "stream",
     "text": [
      "The sentence: \"good code is commented code\" has character length =  27\n",
      "good code is \n",
      "commented code\n"
     ]
    }
   ],
   "source": [
    "# len()\n",
    "# returns a strings length\n",
    "\n",
    "# [ ] review and run example\n",
    "work_tip = \"good code is commented code\"\n",
    "\n",
    "print(\"The sentence: \\\"\" + work_tip + \"\\\" has character length = \", len(work_tip) )\n",
    "# [ ] review and run example\n",
    "# find the middle index\n",
    "work_tip = \"good code is commented code\"\n",
    "mid_pt = int(len(work_tip)/2)\n",
    "\n",
    "# print 1st half of sentence\n",
    "print(work_tip[:mid_pt])\n",
    "\n",
    "# print the 2nd half of sentence\n",
    "print(work_tip[mid_pt:])"
   ]
  },
  {
   "cell_type": "code",
   "execution_count": 52,
   "metadata": {},
   "outputs": [
    {
     "name": "stdout",
     "output_type": "stream",
     "text": [
      "good code is commented code\n",
      "how many w's?  0\n",
      "how many o's?  5\n",
      "uses 'code', how many times?  2\n",
      "good code is \n",
      "# o's in first half\n",
      "3\n",
      "\n",
      "commented code\n",
      "# o's in second half\n",
      "2\n"
     ]
    }
   ],
   "source": [
    "# .count()\n",
    "# returns number of times a character or sub-string occur\n",
    "\n",
    "# [ ] review and run example\n",
    "print(work_tip)\n",
    "print(\"how many w's? \", work_tip.count(\"w\"))\n",
    "print(\"how many o's? \", work_tip.count(\"o\"))\n",
    "print(\"uses 'code', how many times? \", work_tip.count(\"code\"))\n",
    "# [ ] review and run example \n",
    "print(work_tip[:mid_pt])\n",
    "print(\"# o's in first half\")\n",
    "print(work_tip[:mid_pt].count(\"o\"))\n",
    "\n",
    "print()\n",
    "print(work_tip[mid_pt:])\n",
    "print(\"# o's in second half\")\n",
    "print(work_tip[mid_pt:].count(\"o\"))"
   ]
  },
  {
   "cell_type": "code",
   "execution_count": 55,
   "metadata": {},
   "outputs": [
    {
     "name": "stdout",
     "output_type": "stream",
     "text": [
      "good code has meaningful variable names\n",
      "5 = starting index for \"code\"\n",
      "search for \"meaning\" in the sub-string:  meaningful variable \n",
      "\n",
      "\"meaning\" found in work_tip[13:33] sub-string search at index 14\n",
      "work_tip: good code has meaningful variable names\n",
      "'o' at index = 1\n",
      "'o' at index = 2\n",
      "'o' at index = 6\n",
      "no more o's\n"
     ]
    }
   ],
   "source": [
    "# .find(string)\n",
    "# returns index of first character or sub-string match\n",
    "#returns -1 if no match found\n",
    "\n",
    "# .find(string, start index, end index)\n",
    "# same as above .find() but searches from optional start and to optional end index\n",
    "\n",
    "# [ ] review and run example \n",
    "work_tip = \"good code has meaningful variable names\"\n",
    "print(work_tip)\n",
    "\n",
    "# index where first instance of \"code\" starts\n",
    "code_here = work_tip.find(\"code\")\n",
    "print(code_here, '= starting index for \"code\"')\n",
    "\n",
    "# [ ] review and run example \n",
    "# set start index = 13 and end index = 33\n",
    "print('search for \"meaning\" in the sub-string:', work_tip[13:33],\"\\n\")\n",
    "meaning_here = work_tip.find(\"meaning\",13,33)\n",
    "print('\"meaning\" found in work_tip[13:33] sub-string search at index', meaning_here)\n",
    "\n",
    "# [ ] review and run example \n",
    "# if .find(\"o\") has No Match, -1 is returned\n",
    "print (\"work_tip:\" , work_tip)\n",
    "location = work_tip.find(\"o\")\n",
    "\n",
    "# keeps looping until location = -1 (no \"o\" found)\n",
    "while location >= 0:\n",
    "    print(\"'o' at index =\", location)\n",
    "    # find(\"o\", location + 1) looks for a \"o\" after index the first \"o\" was found\n",
    "    location = work_tip.find(\"o\", location + 1)\n",
    "print(\"no more o's\")"
   ]
  },
  {
   "cell_type": "markdown",
   "metadata": {},
   "source": [
    "# Task 1\n",
    "### len()"
   ]
  },
  {
   "cell_type": "code",
   "execution_count": 58,
   "metadata": {},
   "outputs": [
    {
     "name": "stdout",
     "output_type": "stream",
     "text": [
      "12\n",
      "First Half: wear a hat w\n",
      "Second Half: hen it rains\n"
     ]
    }
   ],
   "source": [
    "random_tip = \"wear a hat when it rains\"\n",
    "\n",
    "# [ ] use len() to find the midpoint of the string \n",
    "midpoint = int(len(random_tip)/2)\n",
    "print(midpoint)\n",
    "\n",
    "# [ ] print the halves on separate lines\n",
    "print(\"First Half: \"+random_tip[:midpoint])\n",
    "print(\"Second Half: \"+random_tip[midpoint:])"
   ]
  },
  {
   "cell_type": "markdown",
   "metadata": {},
   "source": [
    "# Task 2\n",
    "### .count()\n"
   ]
  },
  {
   "cell_type": "code",
   "execution_count": 63,
   "metadata": {},
   "outputs": [
    {
     "name": "stdout",
     "output_type": "stream",
     "text": [
      "How many e's?  2\n",
      "How many o's?  0\n",
      "Letter 'e' occurs more frequently than letter 'o'\n"
     ]
    }
   ],
   "source": [
    "random_tip = \"wear a hat when it rains\"\n",
    "\n",
    "# for letters: \"e\" and \"a\" in random_tip\n",
    "# [ ] print letter counts \n",
    "count_e = random_tip.count(\"e\")\n",
    "count_o = random_tip.count(\"o\")\n",
    "print(\"How many e's? \",count_e)\n",
    "print(\"How many o's? \",count_o)\n",
    "\n",
    "if count_e>count_o:\n",
    "    print(\"Letter 'e' occurs more frequently than letter 'o'\")\n",
    "else:\n",
    "    print(\"Letter 'o' occurs more frequently than letter 'e'\")\n",
    "# [ ] BONUS: print which letter is most frequent\n"
   ]
  },
  {
   "cell_type": "markdown",
   "metadata": {},
   "source": [
    "# Task 3\n",
    "### .find()\n"
   ]
  },
  {
   "cell_type": "code",
   "execution_count": 14,
   "metadata": {},
   "outputs": [
    {
     "name": "stdout",
     "output_type": "stream",
     "text": [
      "First occurence of t:  3\n",
      "Second occurence of t:  9\n",
      "taposi\n"
     ]
    }
   ],
   "source": [
    "# [ ] print long_word from the location of the first and second \"t\"\n",
    "long_word = \"juxtaposition\"\n",
    "\n",
    "first_location_of_t = long_word.find(\"t\")\n",
    "print(\"First occurence of t: \",first_location_of_t)\n",
    "\n",
    "second_location_of_t = long_word.find(\"t\",(first_location_of_t+1))   \n",
    "print(\"Second occurence of t: \",second_location_of_t)\n",
    "\n",
    "word = long_word[first_location_of_t:second_location_of_t]\n",
    "print(word)"
   ]
  },
  {
   "cell_type": "markdown",
   "metadata": {
    "collapsed": true
   },
   "source": [
    "# Task 4\n",
    "### Program: print each word in a quote\n"
   ]
  },
  {
   "cell_type": "code",
   "execution_count": 21,
   "metadata": {
    "scrolled": true
   },
   "outputs": [
    {
     "name": "stdout",
     "output_type": "stream",
     "text": [
      "they\n",
      "stumble \n",
      "who \n",
      "run \n",
      "fast \n",
      "\n"
     ]
    }
   ],
   "source": [
    "quote = \"they stumble who run fast \"\n",
    "length = len(quote)\n",
    "space_index = quote.find(\" \")\n",
    "print(quote[:space_index])\n",
    "start = 0 \n",
    "while space_index != -1:\n",
    "    start = space_index\n",
    "    space_index = quote.find(\" \",space_index+1)\n",
    "    print(quote[(start+1):(space_index+1)])\n",
    "    \n",
    "    # code to print word (index slice start:space_index)\n",
    "\n",
    "\n",
    "\n",
    "# code to print word (index slice start:space_index)\n",
    "#Output should look like below:\n",
    "\n",
    "#  they\n",
    "#  stumble\n",
    "#  who\n",
    "#  run\n",
    "#  fast\n",
    "# [ ] Print each word in the quote on a new line\n"
   ]
  },
  {
   "cell_type": "markdown",
   "metadata": {
    "collapsed": true
   },
   "source": [
    "# Practice"
   ]
  },
  {
   "cell_type": "markdown",
   "metadata": {
    "collapsed": true
   },
   "source": [
    "# Task 1\n",
    "### Access String Characters\n",
    "##### working_string[index]"
   ]
  },
  {
   "cell_type": "code",
   "execution_count": 28,
   "metadata": {},
   "outputs": [
    {
     "name": "stdout",
     "output_type": "stream",
     "text": [
      "u\n",
      "J\n",
      "First character of string: J \n",
      "Last Character of string: r\n",
      "Last character of 'planet_name' using negative index access: J\n"
     ]
    }
   ],
   "source": [
    "# [ ] access and print the second character from planet_name: \"u\"\n",
    "planet_name = \"Jupiter\"\n",
    "print(planet_name[1])\n",
    "\n",
    "# [ ] access and print the first character from planet_name: \"J\"\n",
    "planet_name = \"Jupiter\"\n",
    "print(planet_name[0])\n",
    "\n",
    "# [ ] access and print the first and last characters from planet_name\n",
    "planet_name = \"Jupiter\"\n",
    "print(\"First character of string:\",planet_name[0],\"\\nLast Character of string:\",planet_name[-1])\n",
    "\n",
    "# [ ] using a negative index access and print the first character from planet_name: \"J\"\n",
    "planet_name = \"Jupiter\"\n",
    "reverse = planet_name[::-1]\n",
    "print(\"Last character of 'planet_name' using negative index access:\",reverse[-1])"
   ]
  },
  {
   "cell_type": "markdown",
   "metadata": {},
   "source": [
    "# Task 2\n",
    "### slice\n",
    "##### working_string[start:stop]\n",
    "##### working_string[start:stop:step]\n"
   ]
  },
  {
   "cell_type": "code",
   "execution_count": 37,
   "metadata": {},
   "outputs": [
    {
     "name": "stdout",
     "output_type": "stream",
     "text": [
      "Printing 'planet_name' sliced into 1st 3 characters and remaining characters: Nep tune\n",
      "Printing 1st char and then every 3rd char of wise_words: Python\n",
      "Printing planet_name in reverse: enutpeN\n"
     ]
    }
   ],
   "source": [
    "# [ ] print planet_name sliced into the first 3 characters and remaining characters\n",
    "planet_name = \"Neptune\"\n",
    "print(\"Printing 'planet_name' sliced into 1st 3 characters and remaining characters:\",planet_name[0:3],planet_name[3:])\n",
    "\n",
    "# [ ] print 1st char and then every 3rd char of wise_words\n",
    "# use string slice with a step\n",
    "wise_words = 'Play it who opens'\n",
    "print(\"Printing 1st char and then every 3rd char of wise_words:\",wise_words[::3])\n",
    "\n",
    "# [ ] print planet_name in reverse\n",
    "print(\"Printing planet_name in reverse:\",planet_name[::-1])"
   ]
  },
  {
   "cell_type": "markdown",
   "metadata": {},
   "source": [
    "# Task 3\n",
    "### iterate a String\n",
    "##### for letter in sentence:\n"
   ]
  },
  {
   "cell_type": "code",
   "execution_count": 51,
   "metadata": {},
   "outputs": [
    {
     "name": "stdout",
     "output_type": "stream",
     "text": [
      "What's your favorite food? Pizza\n",
      "P\n",
      "i\n",
      "z\n",
      "z\n",
      "a\n",
      "\n",
      "\n",
      "Good-code-is-commented-code <---------- replacing \" \" with \"-\"\n",
      "\n",
      "Goodcodeiscommentedcode <---------- ignoring \" \"\n",
      "\n",
      "Printing 1st 4 letters of 'Hiroto' on new line:\n",
      "H\n",
      "i\n",
      "r\n",
      "o\n",
      "\n",
      "Printing every other letter from 2nd to last letter of name: \n",
      "ioo\n"
     ]
    }
   ],
   "source": [
    "# [ ] Get user input for 1 fav_food\n",
    "fav_food = input(\"What's your favorite food? \")\n",
    "\n",
    "# [ ] iterate through letters in fav_food \n",
    "#    - print each letter on a new line\n",
    "for letters in fav_food:\n",
    "    print(letters)\n",
    "print(\"\\n\")\n",
    "# [ ] iterate work_tip string concatenate each letter to variable: new_string \n",
    "# [ ] concatenate the letter or a \"-\" instead of a space \" \"\n",
    "# tip: concatenate string example: word = word + \"a\"\n",
    "work_tip = \"Good code is commented code\"\n",
    "new_string_1 = \"\"\n",
    "new_string_2 = \"\"\n",
    "for letter in work_tip:\n",
    "    if letter == \" \":\n",
    "        new_string_1 += \"-\"\n",
    "    else:\n",
    "        new_string_1 += letter\n",
    "print(new_string_1,'<---------- replacing \" \" with \"-\"\\n' )\n",
    "\n",
    "for letter in work_tip:\n",
    "    if letter == \" \":\n",
    "        new_string_2 = new_string_2\n",
    "    else:\n",
    "        new_string_2 += letter\n",
    "print(new_string_2,'<---------- ignoring \" \"\\n' )\n",
    "\n",
    "# [ ] Print the first 4 letters of name on new line\n",
    "name = \"Hiroto\"\n",
    "print(\"Printing 1st 4 letters of 'Hiroto' on new line:\")\n",
    "for letter in name[0:4]:\n",
    "    print(letter)\n",
    "\n",
    "# [ ] Print every other letter from 2nd to last letter of name \n",
    "name = \"Hiroto\"\n",
    "print(\"\\nPrinting every other letter from 2nd to last letter of name: \")\n",
    "print(name[1::2])"
   ]
  },
  {
   "cell_type": "markdown",
   "metadata": {},
   "source": [
    "# Task 4\n",
    "### Program: Mystery Name\n",
    "- get user input for first_name\n",
    "- create an empty string variable: new_name\n",
    "- iterate through letters in first_name Backwards\n",
    "```\n",
    "    - add each letter to new_name as you iterate\n",
    "    - Replace the letter if \"e\", \"t\" or \"a\" with \"?\" (hint: if, elif, elif, else)\n",
    "```\n",
    "- print new_name\n",
    "- example: \"Alton\" = \"no?l?\"\n"
   ]
  },
  {
   "cell_type": "code",
   "execution_count": 54,
   "metadata": {},
   "outputs": [
    {
     "name": "stdout",
     "output_type": "stream",
     "text": [
      "First Name: Prachi\n",
      "New Name: ihc?rP\n"
     ]
    }
   ],
   "source": [
    "first_name = input(\"First Name: \")\n",
    "new_name = \"\"\n",
    "for letter in first_name[::-1]:\n",
    "    if (letter==\"e\")or(letter==\"t\")or(letter==\"a\"):\n",
    "        letter = \"?\"\n",
    "        new_name += letter\n",
    "    else:\n",
    "        new_name += letter\n",
    "print(\"New Name:\",new_name)\n",
    "    "
   ]
  },
  {
   "cell_type": "markdown",
   "metadata": {},
   "source": [
    "# Task 4\n",
    "### len(), .find(), .count()\n",
    "- len(working_string)\n",
    "- .find(\"i\")\n",
    "- .find(\"i\",start)\n",
    "- .find(\"i\", start, end)\n",
    "- .count(\"i\")\n",
    "- .count(\"i\", start)\n",
    "- .count(\"i\", start, end)\n"
   ]
  },
  {
   "cell_type": "code",
   "execution_count": 66,
   "metadata": {},
   "outputs": [
    {
     "name": "stdout",
     "output_type": "stream",
     "text": [
      "Length of string: 37\n",
      "Mid-point of string: 28\n",
      "First occurence of 'code': 5\n",
      "Printing substring with substring index start= 13,end = last char: commented code\n",
      "10\n"
     ]
    }
   ],
   "source": [
    "# [ ] find and display the length of the string: topic\n",
    "topic = \".len() returns the length of a string\"\n",
    "print('Length of string:',len(topic))\n",
    "\n",
    "# [ ] use len() to find and display the mid_pt (middle) index (+/- 1) of the string: topic\n",
    "# note: index values are whole numbers\n",
    "topic = \"len() can take a sequence, like a string, as an argument\"\n",
    "print(\"Mid-point of string:\",int(len(topic)/2))\n",
    "\n",
    "# [ ] print index where first instance of the word  \"code\" starts using .find()\n",
    "work_tip = \"Good code is commented code\"\n",
    "# [ ] search for \"code\" in code_tip using .find() \n",
    "print(\"First occurence of 'code':\",work_tip.find(\"code\"))\n",
    "\n",
    "# [ ] search substring with substring index start= 13,end = last char\n",
    "print(\"Printing substring with substring index start= 13,end = last char:\",work_tip[13:])\n",
    "# [ ] save result in variable: code_index\n",
    "code_index = work_tip[13:]\n",
    "# [ ] display index of where \"code\" is found, or print \"not found\" if code_index == -1\n",
    "if \"code\" in code_index:\n",
    "    print(code_index.find(\"code\"))\n",
    "else:\n",
    "    print(\"Not found\")\n"
   ]
  },
  {
   "cell_type": "markdown",
   "metadata": {},
   "source": [
    "# Task 5\n"
   ]
  },
  {
   "cell_type": "code",
   "execution_count": 78,
   "metadata": {},
   "outputs": [
    {
     "name": "stdout",
     "output_type": "stream",
     "text": [
      "No. of w's: 0\n",
      "No. of o's: 5\n",
      "No. of times word 'code' is used: 2\n",
      "code_tip: code a conditional decision like you would say it\n",
      "No. of i's: 6\n",
      "11\n",
      "13\n",
      "22\n",
      "24\n",
      "29\n",
      "47\n"
     ]
    }
   ],
   "source": [
    "# [ ] find and report (print) number of w's, o's + use of word \"code\"\n",
    "work_tip = \"Good code is commented code\"\n",
    "print(\"No. of w's:\",work_tip.count(\"w\"))\n",
    "print(\"No. of o's:\",work_tip.count(\"o\"))\n",
    "print(\"No. of times word 'code' is used:\",work_tip.count(\"code\"))\n",
    "\n",
    "# [ ]  count times letter \"i\" appears in code_tip string\n",
    "# [ ] find and display the index of all the letter i's in code_tip\n",
    "# Remember: if .find(\"i\") has No Match, -1 is returned\n",
    "code_tip = \"code a conditional decision like you would say it\"\n",
    "print (\"code_tip:\" , code_tip)\n",
    "print(\"No. of i's:\",code_tip.count(\"i\"))\n",
    "\n",
    "index = code_tip.find(\"i\")\n",
    "while index != -1:\n",
    "    print(index)\n",
    "    index = code_tip.find(\"i\",index+1)\n",
    "    "
   ]
  },
  {
   "cell_type": "markdown",
   "metadata": {},
   "source": [
    "# Task 6\n",
    "### Program: Words after \"G\"/\"g\"\n",
    "#### Create a program inputs a phrase (like a famous quotation) and prints all of the words that start with h-z\n",
    "\n",
    "#### Sample input:\n",
    "#### enter a 1 sentence quote, non-alpha separate words: Wheresoever you go, go with all your heart\n",
    "\n",
    "#### Sample output:\n",
    "\n",
    "##### WHERESOEVER\n",
    "##### YOU\n",
    "##### WITH\n",
    "##### YOUR\n",
    "##### HEART\n",
    "- split the words by building a placeholder variable: word\n",
    "```\n",
    "-loop each character in the input string\n",
    "-check if character is a letter\n",
    "-add a letter to word each loop until a non-alpha char is encountered\n",
    "```\n",
    "- if character is alpha\n",
    "```\n",
    "-add character to word\n",
    "-non-alpha detected (space, punctuation, digit,...) defines the end of a word and goes to else\n",
    "```\n",
    "- else\n",
    "```\n",
    "-check if word is greater than \"g\" alphabetically\n",
    "```\n",
    "```\n",
    "    print word\n",
    "    set word = empty string\n",
    "```\n",
    "```\n",
    "-- or else\n",
    "```\n",
    "```\n",
    "    set word = empty string and build the next word\n",
    "```\n",
    "### Hint: use .lower()"
   ]
  },
  {
   "cell_type": "code",
   "execution_count": 17,
   "metadata": {
    "scrolled": true
   },
   "outputs": [
    {
     "name": "stdout",
     "output_type": "stream",
     "text": [
      "Wheresoever\n",
      "you\n",
      "with\n",
      "all\n",
      "your\n",
      "heart\n"
     ]
    }
   ],
   "source": [
    "sentence = \"Wheresoever you go, go with all your heart\"\n",
    "word = \"\"\n",
    "if sentence[-1] != \" \":\n",
    "    sentence+=\" \"\n",
    "    \n",
    "for letter in sentence:\n",
    "    if letter.isalpha():\n",
    "        word += letter\n",
    "        test = word[0]\n",
    "    else:\n",
    "        if test == \"g\":\n",
    "            word = \"\"\n",
    "        elif (test>\"g\")or(test>\"G\"):\n",
    "            print(word)\n",
    "            word = \"\"\n",
    "        else:\n",
    "            word=\"\"\n",
    "    \n",
    "        "
   ]
  },
  {
   "cell_type": "code",
   "execution_count": null,
   "metadata": {
    "collapsed": true
   },
   "outputs": [],
   "source": []
  },
  {
   "cell_type": "code",
   "execution_count": null,
   "metadata": {
    "collapsed": true
   },
   "outputs": [],
   "source": []
  }
 ],
 "metadata": {
  "kernelspec": {
   "display_name": "Python 3",
   "language": "python",
   "name": "python3"
  },
  "language_info": {
   "codemirror_mode": {
    "name": "ipython",
    "version": 3
   },
   "file_extension": ".py",
   "mimetype": "text/x-python",
   "name": "python",
   "nbconvert_exporter": "python",
   "pygments_lexer": "ipython3",
   "version": "3.6.3"
  }
 },
 "nbformat": 4,
 "nbformat_minor": 2
}
